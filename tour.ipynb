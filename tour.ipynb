{
 "cells": [
  {
   "cell_type": "code",
   "execution_count": 92,
   "metadata": {
    "scrolled": true
   },
   "outputs": [
    {
     "data": {
      "text/plain": [
       "'3tH0Cy1aSWuHpkvdHjT5AR/TJDe6KfqaOS0LKBxWFuvmz83HCol4uIzR+KItfRE8xEBuB5ARn+7WZxsuHbLJ7g=='"
      ]
     },
     "execution_count": 92,
     "metadata": {},
     "output_type": "execute_result"
    }
   ],
   "source": [
    "import requests\n",
    "import xmltodict\n",
    "import pandas as pd\n",
    "\n",
    "API_KEY=\"3tH0Cy1aSWuHpkvdHjT5AR%2FTJDe6KfqaOS0LKBxWFuvmz83HCol4uIzR%2BKItfRE8xEBuB5ARn%2B7WZxsuHbLJ7g%3D%3D\"\n",
    "API_KEY_decode = requests.utils.unquote(API_KEY)\n",
    "API_KEY_decode"
   ]
  },
  {
   "cell_type": "code",
   "execution_count": 69,
   "metadata": {
    "scrolled": true
   },
   "outputs": [
    {
     "name": "stdout",
     "output_type": "stream",
     "text": [
      "C:/myPyCode/data/project/foreigntourist/202001.csv\n",
      "C:/myPyCode/data/project/foreigntourist/202002.csv\n",
      "C:/myPyCode/data/project/foreigntourist/202003.csv\n",
      "C:/myPyCode/data/project/foreigntourist/202004.csv\n",
      "C:/myPyCode/data/project/foreigntourist/202005.csv\n"
     ]
    }
   ],
   "source": [
    "### 월별 입국자수 데이터 엑셀 다운로드\n",
    "\n",
    "import requests\n",
    "import xmltodict\n",
    "import pandas as pd\n",
    "\n",
    "API_KEY=\"3tH0Cy1aSWuHpkvdHjT5AR%2FTJDe6KfqaOS0LKBxWFuvmz83HCol4uIzR%2BKItfRE8xEBuB5ARn%2B7WZxsuHbLJ7g%3D%3D\"\n",
    "API_KEY_decode = requests.utils.unquote(API_KEY)\n",
    "year = '2020'\n",
    "req_url = \"http://openapi.tour.go.kr/openapi/service/EdrcntTourismStatsService/getForeignTuristStatsList\"\n",
    "dir_name = 'C:/myPyCode/data/project/foreigntourist/'+ year \n",
    "num_of_rows = 15000\n",
    "\n",
    "for k in range(5):\n",
    "    mm = '{0:02d}'.format(k+1)\n",
    "    \n",
    "    ym = int(year + mm)\n",
    "    req_parameter={\n",
    "        \"ServiceKey\":API_KEY_decode,\n",
    "        \"YM\":ym,\n",
    "        \"numOfRows\":num_of_rows,\n",
    "    }\n",
    "    \n",
    "    r = requests.get(req_url, params = req_parameter)\n",
    "    xml_data = r.text\n",
    "    dict_data = xmltodict.parse(xml_data)\n",
    "    dict_data\n",
    "    \n",
    "    dict_data=dict_data['response']['body']['items']['item']\n",
    "    df = pd.DataFrame(dict_data)\n",
    "    \n",
    "    file_name = dir_name + mm+'.csv'\n",
    "    print(file_name)  \n",
    "    df.to_csv(file_name, mode='w', encoding='euc-kr')"
   ]
  },
  {
   "cell_type": "code",
   "execution_count": 107,
   "metadata": {},
   "outputs": [
    {
     "data": {
      "text/html": [
       "<div>\n",
       "<style scoped>\n",
       "    .dataframe tbody tr th:only-of-type {\n",
       "        vertical-align: middle;\n",
       "    }\n",
       "\n",
       "    .dataframe tbody tr th {\n",
       "        vertical-align: top;\n",
       "    }\n",
       "\n",
       "    .dataframe thead th {\n",
       "        text-align: right;\n",
       "    }\n",
       "</style>\n",
       "<table border=\"1\" class=\"dataframe\">\n",
       "  <thead>\n",
       "    <tr style=\"text-align: right;\">\n",
       "      <th></th>\n",
       "      <th>미국</th>\n",
       "      <th>호주</th>\n",
       "      <th>캐나다</th>\n",
       "      <th>일본</th>\n",
       "      <th>중국</th>\n",
       "      <th>태국</th>\n",
       "      <th>영국</th>\n",
       "      <th>프랑스</th>\n",
       "      <th>독일</th>\n",
       "    </tr>\n",
       "    <tr>\n",
       "      <th>월</th>\n",
       "      <th></th>\n",
       "      <th></th>\n",
       "      <th></th>\n",
       "      <th></th>\n",
       "      <th></th>\n",
       "      <th></th>\n",
       "      <th></th>\n",
       "      <th></th>\n",
       "      <th></th>\n",
       "    </tr>\n",
       "  </thead>\n",
       "  <tbody>\n",
       "    <tr>\n",
       "      <th>1</th>\n",
       "      <td>67255</td>\n",
       "      <td>14039</td>\n",
       "      <td>13809</td>\n",
       "      <td>203969</td>\n",
       "      <td>481681</td>\n",
       "      <td>38466</td>\n",
       "      <td>9117</td>\n",
       "      <td>5982</td>\n",
       "      <td>6617</td>\n",
       "    </tr>\n",
       "    <tr>\n",
       "      <th>2</th>\n",
       "      <td>42439</td>\n",
       "      <td>6857</td>\n",
       "      <td>9046</td>\n",
       "      <td>211199</td>\n",
       "      <td>104086</td>\n",
       "      <td>31777</td>\n",
       "      <td>5566</td>\n",
       "      <td>5120</td>\n",
       "      <td>5599</td>\n",
       "    </tr>\n",
       "    <tr>\n",
       "      <th>3</th>\n",
       "      <td>10570</td>\n",
       "      <td>760</td>\n",
       "      <td>2405</td>\n",
       "      <td>8347</td>\n",
       "      <td>16595</td>\n",
       "      <td>2371</td>\n",
       "      <td>1173</td>\n",
       "      <td>1217</td>\n",
       "      <td>1195</td>\n",
       "    </tr>\n",
       "    <tr>\n",
       "      <th>4</th>\n",
       "      <td>6417</td>\n",
       "      <td>124</td>\n",
       "      <td>422</td>\n",
       "      <td>360</td>\n",
       "      <td>3935</td>\n",
       "      <td>299</td>\n",
       "      <td>298</td>\n",
       "      <td>280</td>\n",
       "      <td>1033</td>\n",
       "    </tr>\n",
       "    <tr>\n",
       "      <th>5</th>\n",
       "      <td>8735</td>\n",
       "      <td>137</td>\n",
       "      <td>695</td>\n",
       "      <td>413</td>\n",
       "      <td>5124</td>\n",
       "      <td>195</td>\n",
       "      <td>374</td>\n",
       "      <td>157</td>\n",
       "      <td>1754</td>\n",
       "    </tr>\n",
       "  </tbody>\n",
       "</table>\n",
       "</div>"
      ],
      "text/plain": [
       "      미국     호주    캐나다      일본      중국     태국    영국   프랑스    독일\n",
       "월                                                              \n",
       "1  67255  14039  13809  203969  481681  38466  9117  5982  6617\n",
       "2  42439   6857   9046  211199  104086  31777  5566  5120  5599\n",
       "3  10570    760   2405    8347   16595   2371  1173  1217  1195\n",
       "4   6417    124    422     360    3935    299   298   280  1033\n",
       "5   8735    137    695     413    5124    195   374   157  1754"
      ]
     },
     "execution_count": 107,
     "metadata": {},
     "output_type": "execute_result"
    }
   ],
   "source": [
    "## 국가별 매월 입국자수\n",
    "nat_table = []\n",
    "year = '2020'\n",
    "\n",
    "for k in range(5):\n",
    "    mm = '{0:02d}'.format(k+1)\n",
    "    data_file = 'C:/myPyCode/data/project/foreigntourist/'+year+mm+'.csv'\n",
    "    \n",
    "    df = pd.read_csv(data_file, encoding='euc-kr')\n",
    "    nat_df = df.iloc[:,[3,5]]\n",
    "    \n",
    "    ## 국가 코드 : 미국, 호주, 캐나다, 일본, 중국, 태국, 영국, 프랑스, 독일\n",
    "    nat_cd = [275, 404, 213, 130, 112, 170, 316, 321, 324]\n",
    "    count = []\n",
    "\n",
    "    for cd in nat_cd:\n",
    "        temp = nat_df.groupby('natCd').sum().sort_values(by='num',ascending =False)\n",
    "        count.append(temp.loc[cd].num)\n",
    "    nat_table.append(count)\n",
    "\n",
    "df_nat = pd.DataFrame(nat_table)\n",
    "df_nat.columns = ['미국','호주','캐나다','일본','중국','태국','영국','프랑스','독일']\n",
    "\n",
    "df_nat[\"월\"]=[1,2,3,4,5]\n",
    "df_nat = df_nat.set_index(\"월\")\n",
    "\n",
    "df_nat"
   ]
  },
  {
   "cell_type": "code",
   "execution_count": 108,
   "metadata": {},
   "outputs": [
    {
     "data": {
      "image/png": "[encoded data removed]",
      "text/plain": [
       "<Figure size 432x288 with 1 Axes>"
      ]
     },
     "metadata": {
      "needs_background": "light"
     },
     "output_type": "display_data"
    }
   ],
   "source": [
    "import matplotlib\n",
    "import matplotlib.pyplot as plt\n",
    "import pandas as pd\n",
    "\n",
    "nat_plot = df_nat.plot()\n",
    "\n",
    "matplotlib.rcParams['font.family']='Malgun Gothic'\n",
    "matplotlib.rcParams['axes.unicode_minus']=False\n",
    "\n",
    "\n",
    "plt.legend(loc=\"upper right\", bbox_to_anchor=(1.25, 1))\n",
    "\n",
    "plt.xticks(range(len(df_nat.index)+1), range(0,13))\n",
    "plt.axis([1, 5, 0, 1000000])\n",
    "plt.xlabel('월')\n",
    "plt.ylabel('방문자 수')\n",
    "plt.title('국가별 방문자수 변화')\n",
    "plt.show()"
   ]
  },
  {
   "cell_type": "code",
   "execution_count": 109,
   "metadata": {},
   "outputs": [
    {
     "data": {
      "text/plain": [
       "(0, 8500000)"
      ]
     },
     "execution_count": 109,
     "metadata": {},
     "output_type": "execute_result"
    },
    {
     "data": {
      "image/png": "[encoded data removed]",
      "text/plain": [
       "<Figure size 432x288 with 1 Axes>"
      ]
     },
     "metadata": {
      "needs_background": "light"
     },
     "output_type": "display_data"
    }
   ],
   "source": [
    "import numpy as np\n",
    "\n",
    "year_data = df_nat.sum()\n",
    "plt.barh(df_nat.columns, year_data)\n",
    "plt.xlim(0,8500000)\n"
   ]
  }
 ],
 "metadata": {
  "kernelspec": {
   "display_name": "Python 3",
   "language": "python",
   "name": "python3"
  },
  "language_info": {
   "codemirror_mode": {
    "name": "ipython",
    "version": 3
   },
   "file_extension": ".py",
   "mimetype": "text/x-python",
   "name": "python",
   "nbconvert_exporter": "python",
   "pygments_lexer": "ipython3",
   "version": "3.7.6"
  }
 },
 "nbformat": 4,
 "nbformat_minor": 4
}
