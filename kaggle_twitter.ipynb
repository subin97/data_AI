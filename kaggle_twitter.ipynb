{
 "cells": [
  {
   "cell_type": "code",
   "execution_count": 1,
   "metadata": {},
   "outputs": [],
   "source": [
    "import pandas as pd\n",
    "\n",
    "# Matplot\n",
    "import matplotlib.pyplot as plt\n",
    "%matplotlib inline\n",
    "\n",
    "# Scikit-learn\n",
    "from sklearn.model_selection import train_test_split\n",
    "from sklearn.preprocessing import LabelEncoder\n",
    "from sklearn.metrics import confusion_matrix, classification_report, accuracy_score\n",
    "from sklearn.manifold import TSNE\n",
    "from sklearn.feature_extraction.text import TfidfVectorizer\n",
    "\n",
    "# Keras\n",
    "from keras.preprocessing.text import Tokenizer\n",
    "from keras.preprocessing.sequence import pad_sequences\n",
    "from keras.models import Sequential\n",
    "from keras.layers import Activation, Dense, Dropout, Embedding, Flatten, Conv1D, MaxPooling1D, LSTM\n",
    "from keras import utils\n",
    "from keras.callbacks import ReduceLROnPlateau, EarlyStopping\n",
    "\n",
    "# nltk\n",
    "import nltk\n",
    "from nltk.corpus import stopwords\n",
    "from  nltk.stem import SnowballStemmer\n",
    "\n",
    "# Word2vec\n",
    "import gensim\n",
    "\n",
    "# Utility\n",
    "import re\n",
    "import numpy as np\n",
    "import os\n",
    "from collections import Counter\n",
    "import logging\n",
    "import time\n",
    "import pickle\n",
    "import itertools\n",
    "\n",
    "# Set log\n",
    "logging.basicConfig(format='%(asctime)s : %(levelname)s : %(message)s', level=logging.INFO)"
   ]
  },
  {
   "cell_type": "code",
   "execution_count": 2,
   "metadata": {},
   "outputs": [
    {
     "name": "stderr",
     "output_type": "stream",
     "text": [
      "[nltk_data] Downloading package stopwords to\n",
      "[nltk_data]     C:\\Users\\student\\AppData\\Roaming\\nltk_data...\n",
      "[nltk_data]   Package stopwords is already up-to-date!\n"
     ]
    },
    {
     "data": {
      "text/plain": [
       "True"
      ]
     },
     "execution_count": 2,
     "metadata": {},
     "output_type": "execute_result"
    }
   ],
   "source": [
    "nltk.download('stopwords')"
   ]
  },
  {
   "cell_type": "code",
   "execution_count": 4,
   "metadata": {},
   "outputs": [],
   "source": [
    "DATASET_COLUMNS = [\"target\", \"ids\", \"date\", \"flag\", \"user\", \"text\"]\n",
    "DATASET_ENCODING = \"ISO-8859-1\"\n",
    "TRAIN_SIZE = 0.8\n",
    "\n",
    "# TEXT CLENAING\n",
    "TEXT_CLEANING_RE = \"@\\S+|https?:\\S+|http?:\\S|[^A-Za-z0-9]+\"\n",
    "\n",
    "# WORD2VEC \n",
    "W2V_SIZE = 300\n",
    "W2V_WINDOW = 7\n",
    "W2V_EPOCH = 32\n",
    "W2V_MIN_COUNT = 10\n",
    "\n",
    "# KERAS\n",
    "SEQUENCE_LENGTH = 300\n",
    "EPOCHS = 8\n",
    "BATCH_SIZE = 1024\n",
    "\n",
    "# SENTIMENT\n",
    "POSITIVE = \"POSITIVE\"\n",
    "NEGATIVE = \"NEGATIVE\"\n",
    "NEUTRAL = \"NEUTRAL\"\n",
    "SENTIMENT_THRESHOLDS = (0.4, 0.7)\n",
    "\n",
    "# EXPORT\n",
    "KERAS_MODEL = \"model.h5\"\n",
    "WORD2VEC_MODEL = \"model.w2v\"\n",
    "TOKENIZER_MODEL = \"tokenizer.pkl\"\n",
    "ENCODER_MODEL = \"encoder.pkl\""
   ]
  },
  {
   "cell_type": "code",
   "execution_count": 5,
   "metadata": {},
   "outputs": [
    {
     "name": "stdout",
     "output_type": "stream",
     "text": [
      "Open file: C:/data/twitter\\testset.csv\n"
     ]
    }
   ],
   "source": [
    "import os\n",
    "import pandas as pd\n",
    "\n",
    "dataset_filename = os.listdir(\"C:/data/twitter\")[0]\n",
    "dataset_path = os.path.join(\"..\",\"C:/data/twitter\",dataset_filename)\n",
    "print(\"Open file:\", dataset_path)\n",
    "df = pd.read_csv(dataset_path, encoding =DATASET_ENCODING , names=DATASET_COLUMNS)"
   ]
  },
  {
   "cell_type": "code",
   "execution_count": 6,
   "metadata": {},
   "outputs": [
    {
     "name": "stdout",
     "output_type": "stream",
     "text": [
      "Dataset size: 20000\n"
     ]
    }
   ],
   "source": [
    "print(\"Dataset size:\", len(df))"
   ]
  },
  {
   "cell_type": "code",
   "execution_count": 7,
   "metadata": {},
   "outputs": [
    {
     "data": {
      "text/html": [
       "<div>\n",
       "<style scoped>\n",
       "    .dataframe tbody tr th:only-of-type {\n",
       "        vertical-align: middle;\n",
       "    }\n",
       "\n",
       "    .dataframe tbody tr th {\n",
       "        vertical-align: top;\n",
       "    }\n",
       "\n",
       "    .dataframe thead th {\n",
       "        text-align: right;\n",
       "    }\n",
       "</style>\n",
       "<table border=\"1\" class=\"dataframe\">\n",
       "  <thead>\n",
       "    <tr style=\"text-align: right;\">\n",
       "      <th></th>\n",
       "      <th>target</th>\n",
       "      <th>ids</th>\n",
       "      <th>date</th>\n",
       "      <th>flag</th>\n",
       "      <th>user</th>\n",
       "      <th>text</th>\n",
       "    </tr>\n",
       "  </thead>\n",
       "  <tbody>\n",
       "    <tr>\n",
       "      <th>0</th>\n",
       "      <td>0</td>\n",
       "      <td>1467810369</td>\n",
       "      <td>Mon Apr 06 22:19:45 PDT 2009</td>\n",
       "      <td>NO_QUERY</td>\n",
       "      <td>_TheSpecialOne_</td>\n",
       "      <td>@switchfoot http://twitpic.com/2y1zl - Awww, t...</td>\n",
       "    </tr>\n",
       "    <tr>\n",
       "      <th>1</th>\n",
       "      <td>0</td>\n",
       "      <td>1467810672</td>\n",
       "      <td>Mon Apr 06 22:19:49 PDT 2009</td>\n",
       "      <td>NO_QUERY</td>\n",
       "      <td>scotthamilton</td>\n",
       "      <td>is upset that he can't update his Facebook by ...</td>\n",
       "    </tr>\n",
       "    <tr>\n",
       "      <th>2</th>\n",
       "      <td>0</td>\n",
       "      <td>1467810917</td>\n",
       "      <td>Mon Apr 06 22:19:53 PDT 2009</td>\n",
       "      <td>NO_QUERY</td>\n",
       "      <td>mattycus</td>\n",
       "      <td>@Kenichan I dived many times for the ball. Man...</td>\n",
       "    </tr>\n",
       "    <tr>\n",
       "      <th>3</th>\n",
       "      <td>0</td>\n",
       "      <td>1467811184</td>\n",
       "      <td>Mon Apr 06 22:19:57 PDT 2009</td>\n",
       "      <td>NO_QUERY</td>\n",
       "      <td>ElleCTF</td>\n",
       "      <td>my whole body feels itchy and like its on fire</td>\n",
       "    </tr>\n",
       "    <tr>\n",
       "      <th>4</th>\n",
       "      <td>0</td>\n",
       "      <td>1467811193</td>\n",
       "      <td>Mon Apr 06 22:19:57 PDT 2009</td>\n",
       "      <td>NO_QUERY</td>\n",
       "      <td>Karoli</td>\n",
       "      <td>@nationwideclass no, it's not behaving at all....</td>\n",
       "    </tr>\n",
       "  </tbody>\n",
       "</table>\n",
       "</div>"
      ],
      "text/plain": [
       "   target         ids                          date      flag  \\\n",
       "0       0  1467810369  Mon Apr 06 22:19:45 PDT 2009  NO_QUERY   \n",
       "1       0  1467810672  Mon Apr 06 22:19:49 PDT 2009  NO_QUERY   \n",
       "2       0  1467810917  Mon Apr 06 22:19:53 PDT 2009  NO_QUERY   \n",
       "3       0  1467811184  Mon Apr 06 22:19:57 PDT 2009  NO_QUERY   \n",
       "4       0  1467811193  Mon Apr 06 22:19:57 PDT 2009  NO_QUERY   \n",
       "\n",
       "              user                                               text  \n",
       "0  _TheSpecialOne_  @switchfoot http://twitpic.com/2y1zl - Awww, t...  \n",
       "1    scotthamilton  is upset that he can't update his Facebook by ...  \n",
       "2         mattycus  @Kenichan I dived many times for the ball. Man...  \n",
       "3          ElleCTF    my whole body feels itchy and like its on fire   \n",
       "4           Karoli  @nationwideclass no, it's not behaving at all....  "
      ]
     },
     "execution_count": 7,
     "metadata": {},
     "output_type": "execute_result"
    }
   ],
   "source": [
    "df.head(5)"
   ]
  },
  {
   "cell_type": "code",
   "execution_count": 8,
   "metadata": {},
   "outputs": [],
   "source": [
    "decode_map = {0: \"NEGATIVE\", 2: \"NEUTRAL\", 4: \"POSITIVE\"}\n",
    "def decode_sentiment(label):\n",
    "    return decode_map[int(label)]"
   ]
  },
  {
   "cell_type": "code",
   "execution_count": 9,
   "metadata": {},
   "outputs": [
    {
     "name": "stdout",
     "output_type": "stream",
     "text": [
      "Wall time: 8.98 ms\n"
     ]
    }
   ],
   "source": [
    "%%time\n",
    "df.target = df.target.apply(lambda x: decode_sentiment(x))"
   ]
  },
  {
   "cell_type": "code",
   "execution_count": 10,
   "metadata": {},
   "outputs": [
    {
     "data": {
      "text/plain": [
       "Text(0.5, 1.0, 'Dataset labels distribuition')"
      ]
     },
     "execution_count": 10,
     "metadata": {},
     "output_type": "execute_result"
    },
    {
     "data": {
      "image/png": "[encoded data removed]",
      "text/plain": [
       "<Figure size 1152x576 with 1 Axes>"
      ]
     },
     "metadata": {
      "needs_background": "light"
     },
     "output_type": "display_data"
    }
   ],
   "source": [
    "from collections import Counter\n",
    "import matplotlib.pyplot as plt\n",
    "\n",
    "target_cnt = Counter(df.target)\n",
    "\n",
    "plt.figure(figsize=(16,8))\n",
    "plt.bar(target_cnt.keys(), target_cnt.values())\n",
    "plt.title(\"Dataset labels distribuition\")"
   ]
  },
  {
   "cell_type": "markdown",
   "metadata": {},
   "source": [
    "## Pre-Process dataset"
   ]
  },
  {
   "cell_type": "code",
   "execution_count": 11,
   "metadata": {},
   "outputs": [],
   "source": [
    "from nltk.corpus import stopwords\n",
    "from nltk.stem.snowball import SnowballStemmer\n",
    "\n",
    "stop_words = stopwords.words(\"english\")\n",
    "stemmer = SnowballStemmer(\"english\")"
   ]
  },
  {
   "cell_type": "code",
   "execution_count": 12,
   "metadata": {},
   "outputs": [],
   "source": [
    "import re\n",
    "\n",
    "def preprocess(text, stem=False):\n",
    "    # Remove link,user and special characters\n",
    "    text = re.sub(TEXT_CLEANING_RE, ' ', str(text).lower()).strip()\n",
    "    tokens = []\n",
    "    for token in text.split():\n",
    "        if token not in stop_words:\n",
    "            if stem:\n",
    "                tokens.append(stemmer.stem(token))\n",
    "            else:\n",
    "                tokens.append(token)\n",
    "    return \" \".join(tokens)"
   ]
  },
  {
   "cell_type": "code",
   "execution_count": 13,
   "metadata": {},
   "outputs": [
    {
     "name": "stdout",
     "output_type": "stream",
     "text": [
      "Wall time: 586 ms\n"
     ]
    }
   ],
   "source": [
    "%%time\n",
    "df.text = df.text.apply(lambda x: preprocess(x))"
   ]
  },
  {
   "cell_type": "markdown",
   "metadata": {},
   "source": [
    "## Split train and test"
   ]
  },
  {
   "cell_type": "code",
   "execution_count": 14,
   "metadata": {},
   "outputs": [
    {
     "name": "stdout",
     "output_type": "stream",
     "text": [
      "TRAIN size: 16000\n",
      "TEST size: 4000\n"
     ]
    }
   ],
   "source": [
    "from sklearn.model_selection import train_test_split\n",
    "\n",
    "df_train, df_test = train_test_split(df, test_size=1-TRAIN_SIZE, random_state=42)\n",
    "print(\"TRAIN size:\", len(df_train))\n",
    "print(\"TEST size:\", len(df_test))"
   ]
  },
  {
   "cell_type": "markdown",
   "metadata": {},
   "source": [
    "## Word2Vec"
   ]
  },
  {
   "cell_type": "code",
   "execution_count": 15,
   "metadata": {},
   "outputs": [
    {
     "name": "stdout",
     "output_type": "stream",
     "text": [
      "Wall time: 16.9 ms\n"
     ]
    }
   ],
   "source": [
    "%%time\n",
    "documents = [_text.split() for _text in df_train.text] "
   ]
  },
  {
   "cell_type": "code",
   "execution_count": 16,
   "metadata": {},
   "outputs": [],
   "source": [
    "import gensim\n",
    "\n",
    "w2v_model = gensim.models.word2vec.Word2Vec(size=W2V_SIZE, \n",
    "                                            window=W2V_WINDOW, \n",
    "                                            min_count=W2V_MIN_COUNT, \n",
    "                                            workers=8)"
   ]
  },
  {
   "cell_type": "code",
   "execution_count": 17,
   "metadata": {},
   "outputs": [
    {
     "name": "stderr",
     "output_type": "stream",
     "text": [
      "2020-08-26 11:27:41,973 : INFO : collecting all words and their counts\n",
      "2020-08-26 11:27:41,973 : INFO : PROGRESS: at sentence #0, processed 0 words, keeping 0 word types\n",
      "2020-08-26 11:27:41,991 : INFO : PROGRESS: at sentence #10000, processed 71770 words, keeping 13635 word types\n",
      "2020-08-26 11:27:42,005 : INFO : collected 18210 word types from a corpus of 114771 raw words and 16000 sentences\n",
      "2020-08-26 11:27:42,006 : INFO : Loading a fresh vocabulary\n",
      "2020-08-26 11:27:42,017 : INFO : effective_min_count=10 retains 1653 unique words (9% of original 18210, drops 16557)\n",
      "2020-08-26 11:27:42,018 : INFO : effective_min_count=10 leaves 83838 word corpus (73% of original 114771, drops 30933)\n",
      "2020-08-26 11:27:42,024 : INFO : deleting the raw counts dictionary of 18210 items\n",
      "2020-08-26 11:27:42,026 : INFO : sample=0.001 downsamples 64 most-common words\n",
      "2020-08-26 11:27:42,027 : INFO : downsampling leaves estimated 73907 word corpus (88.2% of prior 83838)\n",
      "2020-08-26 11:27:42,032 : INFO : estimated required memory for 1653 words and 300 dimensions: 4793700 bytes\n",
      "2020-08-26 11:27:42,033 : INFO : resetting layer weights\n"
     ]
    }
   ],
   "source": [
    "w2v_model.build_vocab(documents)"
   ]
  },
  {
   "cell_type": "code",
   "execution_count": 18,
   "metadata": {},
   "outputs": [
    {
     "name": "stdout",
     "output_type": "stream",
     "text": [
      "Vocab size 1653\n"
     ]
    }
   ],
   "source": [
    "words = w2v_model.wv.vocab.keys()\n",
    "vocab_size = len(words)\n",
    "print(\"Vocab size\", vocab_size)"
   ]
  },
  {
   "cell_type": "code",
   "execution_count": 19,
   "metadata": {},
   "outputs": [
    {
     "name": "stderr",
     "output_type": "stream",
     "text": [
      "2020-08-26 11:27:46,192 : INFO : training model with 8 workers on 1653 vocabulary and 300 features, using sg=0 hs=0 sample=0.001 negative=5 window=7\n",
      "2020-08-26 11:27:46,262 : INFO : worker thread finished; awaiting finish of 7 more threads\n",
      "2020-08-26 11:27:46,266 : INFO : worker thread finished; awaiting finish of 6 more threads\n",
      "2020-08-26 11:27:46,269 : INFO : worker thread finished; awaiting finish of 5 more threads\n",
      "2020-08-26 11:27:46,272 : INFO : worker thread finished; awaiting finish of 4 more threads\n",
      "2020-08-26 11:27:46,273 : INFO : worker thread finished; awaiting finish of 3 more threads\n",
      "2020-08-26 11:27:46,277 : INFO : worker thread finished; awaiting finish of 2 more threads\n",
      "2020-08-26 11:27:46,278 : INFO : worker thread finished; awaiting finish of 1 more threads\n",
      "2020-08-26 11:27:46,280 : INFO : worker thread finished; awaiting finish of 0 more threads\n",
      "2020-08-26 11:27:46,281 : INFO : EPOCH - 1 : training on 114771 raw words (73901 effective words) took 0.1s, 990361 effective words/s\n",
      "2020-08-26 11:27:46,335 : INFO : worker thread finished; awaiting finish of 7 more threads\n",
      "2020-08-26 11:27:46,349 : INFO : worker thread finished; awaiting finish of 6 more threads\n",
      "2020-08-26 11:27:46,351 : INFO : worker thread finished; awaiting finish of 5 more threads\n",
      "2020-08-26 11:27:46,355 : INFO : worker thread finished; awaiting finish of 4 more threads\n",
      "2020-08-26 11:27:46,357 : INFO : worker thread finished; awaiting finish of 3 more threads\n",
      "2020-08-26 11:27:46,357 : INFO : worker thread finished; awaiting finish of 2 more threads\n",
      "2020-08-26 11:27:46,363 : INFO : worker thread finished; awaiting finish of 1 more threads\n",
      "2020-08-26 11:27:46,364 : INFO : worker thread finished; awaiting finish of 0 more threads\n",
      "2020-08-26 11:27:46,365 : INFO : EPOCH - 2 : training on 114771 raw words (73794 effective words) took 0.1s, 1055458 effective words/s\n",
      "2020-08-26 11:27:46,417 : INFO : worker thread finished; awaiting finish of 7 more threads\n",
      "2020-08-26 11:27:46,432 : INFO : worker thread finished; awaiting finish of 6 more threads\n",
      "2020-08-26 11:27:46,435 : INFO : worker thread finished; awaiting finish of 5 more threads\n",
      "2020-08-26 11:27:46,443 : INFO : worker thread finished; awaiting finish of 4 more threads\n",
      "2020-08-26 11:27:46,445 : INFO : worker thread finished; awaiting finish of 3 more threads\n",
      "2020-08-26 11:27:46,447 : INFO : worker thread finished; awaiting finish of 2 more threads\n",
      "2020-08-26 11:27:46,450 : INFO : worker thread finished; awaiting finish of 1 more threads\n",
      "2020-08-26 11:27:46,452 : INFO : worker thread finished; awaiting finish of 0 more threads\n",
      "2020-08-26 11:27:46,453 : INFO : EPOCH - 3 : training on 114771 raw words (73948 effective words) took 0.1s, 975986 effective words/s\n",
      "2020-08-26 11:27:46,494 : INFO : worker thread finished; awaiting finish of 7 more threads\n",
      "2020-08-26 11:27:46,521 : INFO : worker thread finished; awaiting finish of 6 more threads\n",
      "2020-08-26 11:27:46,524 : INFO : worker thread finished; awaiting finish of 5 more threads\n",
      "2020-08-26 11:27:46,535 : INFO : worker thread finished; awaiting finish of 4 more threads\n",
      "2020-08-26 11:27:46,537 : INFO : worker thread finished; awaiting finish of 3 more threads\n",
      "2020-08-26 11:27:46,540 : INFO : worker thread finished; awaiting finish of 2 more threads\n",
      "2020-08-26 11:27:46,541 : INFO : worker thread finished; awaiting finish of 1 more threads\n",
      "2020-08-26 11:27:46,542 : INFO : worker thread finished; awaiting finish of 0 more threads\n",
      "2020-08-26 11:27:46,544 : INFO : EPOCH - 4 : training on 114771 raw words (73796 effective words) took 0.1s, 958971 effective words/s\n",
      "2020-08-26 11:27:46,598 : INFO : worker thread finished; awaiting finish of 7 more threads\n",
      "2020-08-26 11:27:46,612 : INFO : worker thread finished; awaiting finish of 6 more threads\n",
      "2020-08-26 11:27:46,614 : INFO : worker thread finished; awaiting finish of 5 more threads\n",
      "2020-08-26 11:27:46,616 : INFO : worker thread finished; awaiting finish of 4 more threads\n",
      "2020-08-26 11:27:46,617 : INFO : worker thread finished; awaiting finish of 3 more threads\n",
      "2020-08-26 11:27:46,618 : INFO : worker thread finished; awaiting finish of 2 more threads\n",
      "2020-08-26 11:27:46,619 : INFO : worker thread finished; awaiting finish of 1 more threads\n",
      "2020-08-26 11:27:46,625 : INFO : worker thread finished; awaiting finish of 0 more threads\n",
      "2020-08-26 11:27:46,626 : INFO : EPOCH - 5 : training on 114771 raw words (73963 effective words) took 0.1s, 1082985 effective words/s\n",
      "2020-08-26 11:27:46,677 : INFO : worker thread finished; awaiting finish of 7 more threads\n",
      "2020-08-26 11:27:46,695 : INFO : worker thread finished; awaiting finish of 6 more threads\n",
      "2020-08-26 11:27:46,697 : INFO : worker thread finished; awaiting finish of 5 more threads\n",
      "2020-08-26 11:27:46,705 : INFO : worker thread finished; awaiting finish of 4 more threads\n",
      "2020-08-26 11:27:46,709 : INFO : worker thread finished; awaiting finish of 3 more threads\n",
      "2020-08-26 11:27:46,711 : INFO : worker thread finished; awaiting finish of 2 more threads\n",
      "2020-08-26 11:27:46,712 : INFO : worker thread finished; awaiting finish of 1 more threads\n",
      "2020-08-26 11:27:46,713 : INFO : worker thread finished; awaiting finish of 0 more threads\n",
      "2020-08-26 11:27:46,714 : INFO : EPOCH - 6 : training on 114771 raw words (73832 effective words) took 0.1s, 987458 effective words/s\n",
      "2020-08-26 11:27:46,767 : INFO : worker thread finished; awaiting finish of 7 more threads\n",
      "2020-08-26 11:27:46,769 : INFO : worker thread finished; awaiting finish of 6 more threads\n",
      "2020-08-26 11:27:46,787 : INFO : worker thread finished; awaiting finish of 5 more threads\n",
      "2020-08-26 11:27:46,790 : INFO : worker thread finished; awaiting finish of 4 more threads\n",
      "2020-08-26 11:27:46,796 : INFO : worker thread finished; awaiting finish of 3 more threads\n",
      "2020-08-26 11:27:46,797 : INFO : worker thread finished; awaiting finish of 2 more threads\n",
      "2020-08-26 11:27:46,798 : INFO : worker thread finished; awaiting finish of 1 more threads\n",
      "2020-08-26 11:27:46,799 : INFO : worker thread finished; awaiting finish of 0 more threads\n",
      "2020-08-26 11:27:46,799 : INFO : EPOCH - 7 : training on 114771 raw words (73885 effective words) took 0.1s, 1014824 effective words/s\n",
      "2020-08-26 11:27:46,853 : INFO : worker thread finished; awaiting finish of 7 more threads\n",
      "2020-08-26 11:27:46,869 : INFO : worker thread finished; awaiting finish of 6 more threads\n",
      "2020-08-26 11:27:46,881 : INFO : worker thread finished; awaiting finish of 5 more threads\n",
      "2020-08-26 11:27:46,883 : INFO : worker thread finished; awaiting finish of 4 more threads\n",
      "2020-08-26 11:27:46,884 : INFO : worker thread finished; awaiting finish of 3 more threads\n",
      "2020-08-26 11:27:46,885 : INFO : worker thread finished; awaiting finish of 2 more threads\n",
      "2020-08-26 11:27:46,886 : INFO : worker thread finished; awaiting finish of 1 more threads\n",
      "2020-08-26 11:27:46,889 : INFO : worker thread finished; awaiting finish of 0 more threads\n",
      "2020-08-26 11:27:46,890 : INFO : EPOCH - 8 : training on 114771 raw words (73915 effective words) took 0.1s, 927490 effective words/s\n",
      "2020-08-26 11:27:46,949 : INFO : worker thread finished; awaiting finish of 7 more threads\n",
      "2020-08-26 11:27:46,956 : INFO : worker thread finished; awaiting finish of 6 more threads\n",
      "2020-08-26 11:27:46,966 : INFO : worker thread finished; awaiting finish of 5 more threads\n",
      "2020-08-26 11:27:46,968 : INFO : worker thread finished; awaiting finish of 4 more threads\n",
      "2020-08-26 11:27:46,970 : INFO : worker thread finished; awaiting finish of 3 more threads\n",
      "2020-08-26 11:27:46,972 : INFO : worker thread finished; awaiting finish of 2 more threads\n",
      "2020-08-26 11:27:46,973 : INFO : worker thread finished; awaiting finish of 1 more threads\n",
      "2020-08-26 11:27:46,974 : INFO : worker thread finished; awaiting finish of 0 more threads\n",
      "2020-08-26 11:27:46,975 : INFO : EPOCH - 9 : training on 114771 raw words (73742 effective words) took 0.1s, 1058287 effective words/s\n",
      "2020-08-26 11:27:47,034 : INFO : worker thread finished; awaiting finish of 7 more threads\n",
      "2020-08-26 11:27:47,044 : INFO : worker thread finished; awaiting finish of 6 more threads\n",
      "2020-08-26 11:27:47,044 : INFO : worker thread finished; awaiting finish of 5 more threads\n",
      "2020-08-26 11:27:47,044 : INFO : worker thread finished; awaiting finish of 4 more threads\n",
      "2020-08-26 11:27:47,044 : INFO : worker thread finished; awaiting finish of 3 more threads\n",
      "2020-08-26 11:27:47,044 : INFO : worker thread finished; awaiting finish of 2 more threads\n",
      "2020-08-26 11:27:47,044 : INFO : worker thread finished; awaiting finish of 1 more threads\n",
      "2020-08-26 11:27:47,044 : INFO : worker thread finished; awaiting finish of 0 more threads\n",
      "2020-08-26 11:27:47,044 : INFO : EPOCH - 10 : training on 114771 raw words (73902 effective words) took 0.1s, 1060925 effective words/s\n",
      "2020-08-26 11:27:47,119 : INFO : worker thread finished; awaiting finish of 7 more threads\n",
      "2020-08-26 11:27:47,134 : INFO : worker thread finished; awaiting finish of 6 more threads\n",
      "2020-08-26 11:27:47,137 : INFO : worker thread finished; awaiting finish of 5 more threads\n",
      "2020-08-26 11:27:47,139 : INFO : worker thread finished; awaiting finish of 4 more threads\n",
      "2020-08-26 11:27:47,141 : INFO : worker thread finished; awaiting finish of 3 more threads\n",
      "2020-08-26 11:27:47,144 : INFO : worker thread finished; awaiting finish of 2 more threads\n",
      "2020-08-26 11:27:47,146 : INFO : worker thread finished; awaiting finish of 1 more threads\n",
      "2020-08-26 11:27:47,147 : INFO : worker thread finished; awaiting finish of 0 more threads\n",
      "2020-08-26 11:27:47,148 : INFO : EPOCH - 11 : training on 114771 raw words (73903 effective words) took 0.1s, 944015 effective words/s\n",
      "2020-08-26 11:27:47,207 : INFO : worker thread finished; awaiting finish of 7 more threads\n",
      "2020-08-26 11:27:47,221 : INFO : worker thread finished; awaiting finish of 6 more threads\n",
      "2020-08-26 11:27:47,224 : INFO : worker thread finished; awaiting finish of 5 more threads\n",
      "2020-08-26 11:27:47,233 : INFO : worker thread finished; awaiting finish of 4 more threads\n",
      "2020-08-26 11:27:47,236 : INFO : worker thread finished; awaiting finish of 3 more threads\n",
      "2020-08-26 11:27:47,239 : INFO : worker thread finished; awaiting finish of 2 more threads\n",
      "2020-08-26 11:27:47,242 : INFO : worker thread finished; awaiting finish of 1 more threads\n",
      "2020-08-26 11:27:47,243 : INFO : worker thread finished; awaiting finish of 0 more threads\n",
      "2020-08-26 11:27:47,245 : INFO : EPOCH - 12 : training on 114771 raw words (74007 effective words) took 0.1s, 1397669 effective words/s\n",
      "2020-08-26 11:27:47,302 : INFO : worker thread finished; awaiting finish of 7 more threads\n",
      "2020-08-26 11:27:47,316 : INFO : worker thread finished; awaiting finish of 6 more threads\n",
      "2020-08-26 11:27:47,319 : INFO : worker thread finished; awaiting finish of 5 more threads\n",
      "2020-08-26 11:27:47,323 : INFO : worker thread finished; awaiting finish of 4 more threads\n",
      "2020-08-26 11:27:47,329 : INFO : worker thread finished; awaiting finish of 3 more threads\n",
      "2020-08-26 11:27:47,334 : INFO : worker thread finished; awaiting finish of 2 more threads\n",
      "2020-08-26 11:27:47,336 : INFO : worker thread finished; awaiting finish of 1 more threads\n",
      "2020-08-26 11:27:47,341 : INFO : worker thread finished; awaiting finish of 0 more threads\n",
      "2020-08-26 11:27:47,342 : INFO : EPOCH - 13 : training on 114771 raw words (73941 effective words) took 0.1s, 877319 effective words/s\n",
      "2020-08-26 11:27:47,398 : INFO : worker thread finished; awaiting finish of 7 more threads\n",
      "2020-08-26 11:27:47,413 : INFO : worker thread finished; awaiting finish of 6 more threads\n",
      "2020-08-26 11:27:47,417 : INFO : worker thread finished; awaiting finish of 5 more threads\n",
      "2020-08-26 11:27:47,418 : INFO : worker thread finished; awaiting finish of 4 more threads\n",
      "2020-08-26 11:27:47,423 : INFO : worker thread finished; awaiting finish of 3 more threads\n",
      "2020-08-26 11:27:47,433 : INFO : worker thread finished; awaiting finish of 2 more threads\n",
      "2020-08-26 11:27:47,434 : INFO : worker thread finished; awaiting finish of 1 more threads\n",
      "2020-08-26 11:27:47,438 : INFO : worker thread finished; awaiting finish of 0 more threads\n",
      "2020-08-26 11:27:47,439 : INFO : EPOCH - 14 : training on 114771 raw words (74054 effective words) took 0.1s, 897016 effective words/s\n",
      "2020-08-26 11:27:47,493 : INFO : worker thread finished; awaiting finish of 7 more threads\n",
      "2020-08-26 11:27:47,497 : INFO : worker thread finished; awaiting finish of 6 more threads\n",
      "2020-08-26 11:27:47,514 : INFO : worker thread finished; awaiting finish of 5 more threads\n",
      "2020-08-26 11:27:47,516 : INFO : worker thread finished; awaiting finish of 4 more threads\n",
      "2020-08-26 11:27:47,517 : INFO : worker thread finished; awaiting finish of 3 more threads\n",
      "2020-08-26 11:27:47,520 : INFO : worker thread finished; awaiting finish of 2 more threads\n",
      "2020-08-26 11:27:47,523 : INFO : worker thread finished; awaiting finish of 1 more threads\n",
      "2020-08-26 11:27:47,529 : INFO : worker thread finished; awaiting finish of 0 more threads\n",
      "2020-08-26 11:27:47,530 : INFO : EPOCH - 15 : training on 114771 raw words (73857 effective words) took 0.1s, 922297 effective words/s\n",
      "2020-08-26 11:27:47,585 : INFO : worker thread finished; awaiting finish of 7 more threads\n",
      "2020-08-26 11:27:47,598 : INFO : worker thread finished; awaiting finish of 6 more threads\n",
      "2020-08-26 11:27:47,600 : INFO : worker thread finished; awaiting finish of 5 more threads\n",
      "2020-08-26 11:27:47,603 : INFO : worker thread finished; awaiting finish of 4 more threads\n",
      "2020-08-26 11:27:47,605 : INFO : worker thread finished; awaiting finish of 3 more threads\n",
      "2020-08-26 11:27:47,606 : INFO : worker thread finished; awaiting finish of 2 more threads\n",
      "2020-08-26 11:27:47,611 : INFO : worker thread finished; awaiting finish of 1 more threads\n",
      "2020-08-26 11:27:47,615 : INFO : worker thread finished; awaiting finish of 0 more threads\n",
      "2020-08-26 11:27:47,617 : INFO : EPOCH - 16 : training on 114771 raw words (73913 effective words) took 0.1s, 1036256 effective words/s\n",
      "2020-08-26 11:27:47,670 : INFO : worker thread finished; awaiting finish of 7 more threads\n",
      "2020-08-26 11:27:47,684 : INFO : worker thread finished; awaiting finish of 6 more threads\n",
      "2020-08-26 11:27:47,686 : INFO : worker thread finished; awaiting finish of 5 more threads\n",
      "2020-08-26 11:27:47,700 : INFO : worker thread finished; awaiting finish of 4 more threads\n",
      "2020-08-26 11:27:47,703 : INFO : worker thread finished; awaiting finish of 3 more threads\n",
      "2020-08-26 11:27:47,705 : INFO : worker thread finished; awaiting finish of 2 more threads\n",
      "2020-08-26 11:27:47,707 : INFO : worker thread finished; awaiting finish of 1 more threads\n",
      "2020-08-26 11:27:47,708 : INFO : worker thread finished; awaiting finish of 0 more threads\n",
      "2020-08-26 11:27:47,709 : INFO : EPOCH - 17 : training on 114771 raw words (73932 effective words) took 0.1s, 933790 effective words/s\n",
      "2020-08-26 11:27:47,762 : INFO : worker thread finished; awaiting finish of 7 more threads\n",
      "2020-08-26 11:27:47,768 : INFO : worker thread finished; awaiting finish of 6 more threads\n",
      "2020-08-26 11:27:47,783 : INFO : worker thread finished; awaiting finish of 5 more threads\n",
      "2020-08-26 11:27:47,786 : INFO : worker thread finished; awaiting finish of 4 more threads\n",
      "2020-08-26 11:27:47,788 : INFO : worker thread finished; awaiting finish of 3 more threads\n",
      "2020-08-26 11:27:47,790 : INFO : worker thread finished; awaiting finish of 2 more threads\n",
      "2020-08-26 11:27:47,792 : INFO : worker thread finished; awaiting finish of 1 more threads\n",
      "2020-08-26 11:27:47,795 : INFO : worker thread finished; awaiting finish of 0 more threads\n",
      "2020-08-26 11:27:47,796 : INFO : EPOCH - 18 : training on 114771 raw words (73977 effective words) took 0.1s, 987055 effective words/s\n",
      "2020-08-26 11:27:47,847 : INFO : worker thread finished; awaiting finish of 7 more threads\n",
      "2020-08-26 11:27:47,863 : INFO : worker thread finished; awaiting finish of 6 more threads\n",
      "2020-08-26 11:27:47,872 : INFO : worker thread finished; awaiting finish of 5 more threads\n",
      "2020-08-26 11:27:47,873 : INFO : worker thread finished; awaiting finish of 4 more threads\n",
      "2020-08-26 11:27:47,876 : INFO : worker thread finished; awaiting finish of 3 more threads\n",
      "2020-08-26 11:27:47,877 : INFO : worker thread finished; awaiting finish of 2 more threads\n",
      "2020-08-26 11:27:47,880 : INFO : worker thread finished; awaiting finish of 1 more threads\n",
      "2020-08-26 11:27:47,884 : INFO : worker thread finished; awaiting finish of 0 more threads\n",
      "2020-08-26 11:27:47,885 : INFO : EPOCH - 19 : training on 114771 raw words (73873 effective words) took 0.1s, 972841 effective words/s\n",
      "2020-08-26 11:27:47,936 : INFO : worker thread finished; awaiting finish of 7 more threads\n",
      "2020-08-26 11:27:47,950 : INFO : worker thread finished; awaiting finish of 6 more threads\n",
      "2020-08-26 11:27:47,957 : INFO : worker thread finished; awaiting finish of 5 more threads\n",
      "2020-08-26 11:27:47,960 : INFO : worker thread finished; awaiting finish of 4 more threads\n",
      "2020-08-26 11:27:47,962 : INFO : worker thread finished; awaiting finish of 3 more threads\n",
      "2020-08-26 11:27:47,965 : INFO : worker thread finished; awaiting finish of 2 more threads\n",
      "2020-08-26 11:27:47,971 : INFO : worker thread finished; awaiting finish of 1 more threads\n",
      "2020-08-26 11:27:47,973 : INFO : worker thread finished; awaiting finish of 0 more threads\n",
      "2020-08-26 11:27:47,974 : INFO : EPOCH - 20 : training on 114771 raw words (73884 effective words) took 0.1s, 964038 effective words/s\n",
      "2020-08-26 11:27:48,028 : INFO : worker thread finished; awaiting finish of 7 more threads\n",
      "2020-08-26 11:27:48,042 : INFO : worker thread finished; awaiting finish of 6 more threads\n",
      "2020-08-26 11:27:48,045 : INFO : worker thread finished; awaiting finish of 5 more threads\n",
      "2020-08-26 11:27:48,047 : INFO : worker thread finished; awaiting finish of 4 more threads\n",
      "2020-08-26 11:27:48,052 : INFO : worker thread finished; awaiting finish of 3 more threads\n",
      "2020-08-26 11:27:48,059 : INFO : worker thread finished; awaiting finish of 2 more threads\n",
      "2020-08-26 11:27:48,061 : INFO : worker thread finished; awaiting finish of 1 more threads\n",
      "2020-08-26 11:27:48,068 : INFO : worker thread finished; awaiting finish of 0 more threads\n",
      "2020-08-26 11:27:48,069 : INFO : EPOCH - 21 : training on 114771 raw words (73921 effective words) took 0.1s, 906141 effective words/s\n",
      "2020-08-26 11:27:48,120 : INFO : worker thread finished; awaiting finish of 7 more threads\n",
      "2020-08-26 11:27:48,128 : INFO : worker thread finished; awaiting finish of 6 more threads\n",
      "2020-08-26 11:27:48,140 : INFO : worker thread finished; awaiting finish of 5 more threads\n",
      "2020-08-26 11:27:48,145 : INFO : worker thread finished; awaiting finish of 4 more threads\n",
      "2020-08-26 11:27:48,153 : INFO : worker thread finished; awaiting finish of 3 more threads\n",
      "2020-08-26 11:27:48,154 : INFO : worker thread finished; awaiting finish of 2 more threads\n",
      "2020-08-26 11:27:48,155 : INFO : worker thread finished; awaiting finish of 1 more threads\n",
      "2020-08-26 11:27:48,158 : INFO : worker thread finished; awaiting finish of 0 more threads\n",
      "2020-08-26 11:27:48,159 : INFO : EPOCH - 22 : training on 114771 raw words (73904 effective words) took 0.1s, 957910 effective words/s\n",
      "2020-08-26 11:27:48,212 : INFO : worker thread finished; awaiting finish of 7 more threads\n",
      "2020-08-26 11:27:48,227 : INFO : worker thread finished; awaiting finish of 6 more threads\n",
      "2020-08-26 11:27:48,233 : INFO : worker thread finished; awaiting finish of 5 more threads\n",
      "2020-08-26 11:27:48,235 : INFO : worker thread finished; awaiting finish of 4 more threads\n",
      "2020-08-26 11:27:48,237 : INFO : worker thread finished; awaiting finish of 3 more threads\n",
      "2020-08-26 11:27:48,239 : INFO : worker thread finished; awaiting finish of 2 more threads\n",
      "2020-08-26 11:27:48,245 : INFO : worker thread finished; awaiting finish of 1 more threads\n",
      "2020-08-26 11:27:48,247 : INFO : worker thread finished; awaiting finish of 0 more threads\n",
      "2020-08-26 11:27:48,249 : INFO : EPOCH - 23 : training on 114771 raw words (73942 effective words) took 0.1s, 956524 effective words/s\n",
      "2020-08-26 11:27:48,307 : INFO : worker thread finished; awaiting finish of 7 more threads\n",
      "2020-08-26 11:27:48,315 : INFO : worker thread finished; awaiting finish of 6 more threads\n",
      "2020-08-26 11:27:48,321 : INFO : worker thread finished; awaiting finish of 5 more threads\n",
      "2020-08-26 11:27:48,326 : INFO : worker thread finished; awaiting finish of 4 more threads\n",
      "2020-08-26 11:27:48,330 : INFO : worker thread finished; awaiting finish of 3 more threads\n",
      "2020-08-26 11:27:48,332 : INFO : worker thread finished; awaiting finish of 2 more threads\n",
      "2020-08-26 11:27:48,335 : INFO : worker thread finished; awaiting finish of 1 more threads\n",
      "2020-08-26 11:27:48,340 : INFO : worker thread finished; awaiting finish of 0 more threads\n",
      "2020-08-26 11:27:48,341 : INFO : EPOCH - 24 : training on 114771 raw words (73733 effective words) took 0.1s, 1109726 effective words/s\n",
      "2020-08-26 11:27:48,395 : INFO : worker thread finished; awaiting finish of 7 more threads\n",
      "2020-08-26 11:27:48,406 : INFO : worker thread finished; awaiting finish of 6 more threads\n",
      "2020-08-26 11:27:48,408 : INFO : worker thread finished; awaiting finish of 5 more threads\n",
      "2020-08-26 11:27:48,417 : INFO : worker thread finished; awaiting finish of 4 more threads\n",
      "2020-08-26 11:27:48,418 : INFO : worker thread finished; awaiting finish of 3 more threads\n",
      "2020-08-26 11:27:48,420 : INFO : worker thread finished; awaiting finish of 2 more threads\n",
      "2020-08-26 11:27:48,421 : INFO : worker thread finished; awaiting finish of 1 more threads\n",
      "2020-08-26 11:27:48,424 : INFO : worker thread finished; awaiting finish of 0 more threads\n",
      "2020-08-26 11:27:48,425 : INFO : EPOCH - 25 : training on 114771 raw words (73931 effective words) took 0.1s, 1042298 effective words/s\n",
      "2020-08-26 11:27:48,482 : INFO : worker thread finished; awaiting finish of 7 more threads\n",
      "2020-08-26 11:27:48,495 : INFO : worker thread finished; awaiting finish of 6 more threads\n",
      "2020-08-26 11:27:48,499 : INFO : worker thread finished; awaiting finish of 5 more threads\n",
      "2020-08-26 11:27:48,501 : INFO : worker thread finished; awaiting finish of 4 more threads\n",
      "2020-08-26 11:27:48,501 : INFO : worker thread finished; awaiting finish of 3 more threads\n",
      "2020-08-26 11:27:48,502 : INFO : worker thread finished; awaiting finish of 2 more threads\n",
      "2020-08-26 11:27:48,504 : INFO : worker thread finished; awaiting finish of 1 more threads\n",
      "2020-08-26 11:27:48,510 : INFO : worker thread finished; awaiting finish of 0 more threads\n",
      "2020-08-26 11:27:48,511 : INFO : EPOCH - 26 : training on 114771 raw words (73802 effective words) took 0.1s, 1008489 effective words/s\n",
      "2020-08-26 11:27:48,561 : INFO : worker thread finished; awaiting finish of 7 more threads\n",
      "2020-08-26 11:27:48,574 : INFO : worker thread finished; awaiting finish of 6 more threads\n",
      "2020-08-26 11:27:48,586 : INFO : worker thread finished; awaiting finish of 5 more threads\n",
      "2020-08-26 11:27:48,588 : INFO : worker thread finished; awaiting finish of 4 more threads\n",
      "2020-08-26 11:27:48,590 : INFO : worker thread finished; awaiting finish of 3 more threads\n",
      "2020-08-26 11:27:48,592 : INFO : worker thread finished; awaiting finish of 2 more threads\n",
      "2020-08-26 11:27:48,594 : INFO : worker thread finished; awaiting finish of 1 more threads\n",
      "2020-08-26 11:27:48,595 : INFO : worker thread finished; awaiting finish of 0 more threads\n",
      "2020-08-26 11:27:48,596 : INFO : EPOCH - 27 : training on 114771 raw words (74108 effective words) took 0.1s, 1020659 effective words/s\n",
      "2020-08-26 11:27:48,648 : INFO : worker thread finished; awaiting finish of 7 more threads\n",
      "2020-08-26 11:27:48,660 : INFO : worker thread finished; awaiting finish of 6 more threads\n",
      "2020-08-26 11:27:48,671 : INFO : worker thread finished; awaiting finish of 5 more threads\n",
      "2020-08-26 11:27:48,673 : INFO : worker thread finished; awaiting finish of 4 more threads\n",
      "2020-08-26 11:27:48,675 : INFO : worker thread finished; awaiting finish of 3 more threads\n",
      "2020-08-26 11:27:48,676 : INFO : worker thread finished; awaiting finish of 2 more threads\n",
      "2020-08-26 11:27:48,679 : INFO : worker thread finished; awaiting finish of 1 more threads\n",
      "2020-08-26 11:27:48,686 : INFO : worker thread finished; awaiting finish of 0 more threads\n",
      "2020-08-26 11:27:48,687 : INFO : EPOCH - 28 : training on 114771 raw words (73831 effective words) took 0.1s, 954708 effective words/s\n",
      "2020-08-26 11:27:48,738 : INFO : worker thread finished; awaiting finish of 7 more threads\n",
      "2020-08-26 11:27:48,742 : INFO : worker thread finished; awaiting finish of 6 more threads\n",
      "2020-08-26 11:27:48,757 : INFO : worker thread finished; awaiting finish of 5 more threads\n",
      "2020-08-26 11:27:48,759 : INFO : worker thread finished; awaiting finish of 4 more threads\n",
      "2020-08-26 11:27:48,763 : INFO : worker thread finished; awaiting finish of 3 more threads\n",
      "2020-08-26 11:27:48,764 : INFO : worker thread finished; awaiting finish of 2 more threads\n",
      "2020-08-26 11:27:48,765 : INFO : worker thread finished; awaiting finish of 1 more threads\n",
      "2020-08-26 11:27:48,767 : INFO : worker thread finished; awaiting finish of 0 more threads\n",
      "2020-08-26 11:27:48,768 : INFO : EPOCH - 29 : training on 114771 raw words (73959 effective words) took 0.1s, 1073403 effective words/s\n",
      "2020-08-26 11:27:48,820 : INFO : worker thread finished; awaiting finish of 7 more threads\n",
      "2020-08-26 11:27:48,836 : INFO : worker thread finished; awaiting finish of 6 more threads\n",
      "2020-08-26 11:27:48,841 : INFO : worker thread finished; awaiting finish of 5 more threads\n",
      "2020-08-26 11:27:48,849 : INFO : worker thread finished; awaiting finish of 4 more threads\n",
      "2020-08-26 11:27:48,852 : INFO : worker thread finished; awaiting finish of 3 more threads\n",
      "2020-08-26 11:27:48,853 : INFO : worker thread finished; awaiting finish of 2 more threads\n",
      "2020-08-26 11:27:48,854 : INFO : worker thread finished; awaiting finish of 1 more threads\n",
      "2020-08-26 11:27:48,855 : INFO : worker thread finished; awaiting finish of 0 more threads\n",
      "2020-08-26 11:27:48,856 : INFO : EPOCH - 30 : training on 114771 raw words (73910 effective words) took 0.1s, 977746 effective words/s\n",
      "2020-08-26 11:27:48,907 : INFO : worker thread finished; awaiting finish of 7 more threads\n",
      "2020-08-26 11:27:48,929 : INFO : worker thread finished; awaiting finish of 6 more threads\n",
      "2020-08-26 11:27:48,931 : INFO : worker thread finished; awaiting finish of 5 more threads\n",
      "2020-08-26 11:27:48,932 : INFO : worker thread finished; awaiting finish of 4 more threads\n",
      "2020-08-26 11:27:48,934 : INFO : worker thread finished; awaiting finish of 3 more threads\n",
      "2020-08-26 11:27:48,935 : INFO : worker thread finished; awaiting finish of 2 more threads\n",
      "2020-08-26 11:27:48,941 : INFO : worker thread finished; awaiting finish of 1 more threads\n",
      "2020-08-26 11:27:48,944 : INFO : worker thread finished; awaiting finish of 0 more threads\n",
      "2020-08-26 11:27:48,945 : INFO : EPOCH - 31 : training on 114771 raw words (73856 effective words) took 0.1s, 978569 effective words/s\n",
      "2020-08-26 11:27:48,997 : INFO : worker thread finished; awaiting finish of 7 more threads\n",
      "2020-08-26 11:27:49,011 : INFO : worker thread finished; awaiting finish of 6 more threads\n",
      "2020-08-26 11:27:49,015 : INFO : worker thread finished; awaiting finish of 5 more threads\n",
      "2020-08-26 11:27:49,021 : INFO : worker thread finished; awaiting finish of 4 more threads\n",
      "2020-08-26 11:27:49,023 : INFO : worker thread finished; awaiting finish of 3 more threads\n",
      "2020-08-26 11:27:49,025 : INFO : worker thread finished; awaiting finish of 2 more threads\n",
      "2020-08-26 11:27:49,028 : INFO : worker thread finished; awaiting finish of 1 more threads\n",
      "2020-08-26 11:27:49,034 : INFO : worker thread finished; awaiting finish of 0 more threads\n",
      "2020-08-26 11:27:49,035 : INFO : EPOCH - 32 : training on 114771 raw words (73859 effective words) took 0.1s, 961919 effective words/s\n",
      "2020-08-26 11:27:49,036 : INFO : training on a 3672672 raw words (2364775 effective words) took 2.8s, 831840 effective words/s\n"
     ]
    },
    {
     "name": "stdout",
     "output_type": "stream",
     "text": [
      "Wall time: 2.84 s\n"
     ]
    },
    {
     "data": {
      "text/plain": [
       "(2364775, 3672672)"
      ]
     },
     "execution_count": 19,
     "metadata": {},
     "output_type": "execute_result"
    }
   ],
   "source": [
    "%%time\n",
    "w2v_model.train(documents, total_examples=len(documents), epochs=W2V_EPOCH)"
   ]
  },
  {
   "cell_type": "code",
   "execution_count": 20,
   "metadata": {},
   "outputs": [
    {
     "name": "stderr",
     "output_type": "stream",
     "text": [
      "C:\\Users\\student\\anaconda3\\lib\\site-packages\\ipykernel_launcher.py:1: DeprecationWarning: Call to deprecated `most_similar` (Method will be removed in 4.0.0, use self.wv.most_similar() instead).\n",
      "  \"\"\"Entry point for launching an IPython kernel.\n",
      "2020-08-26 11:27:50,022 : INFO : precomputing L2-norms of word weight vectors\n"
     ]
    },
    {
     "data": {
      "text/plain": [
       "[('mention', 0.6828263998031616),\n",
       " ('brothers', 0.6614351868629456),\n",
       " ('lmfao', 0.6505697965621948),\n",
       " ('lady', 0.6142158508300781),\n",
       " ('smile', 0.6129683256149292),\n",
       " ('listen', 0.6077317595481873),\n",
       " ('followfriday', 0.6059358716011047),\n",
       " ('hilarious', 0.604072630405426),\n",
       " ('amazing', 0.6037734746932983),\n",
       " ('ii', 0.6011022925376892)]"
      ]
     },
     "execution_count": 20,
     "metadata": {},
     "output_type": "execute_result"
    }
   ],
   "source": [
    "w2v_model.most_similar(\"love\")"
   ]
  },
  {
   "cell_type": "code",
   "execution_count": 21,
   "metadata": {},
   "outputs": [
    {
     "name": "stdout",
     "output_type": "stream",
     "text": [
      "Total words 18211\n"
     ]
    }
   ],
   "source": [
    "import tensorflow as tf\n",
    "from keras.preprocessing.text import Tokenizer\n",
    "\n",
    "# %%time\n",
    "tokenizer = Tokenizer()\n",
    "tokenizer.fit_on_texts(df_train.text)\n",
    "\n",
    "vocab_size = len(tokenizer.word_index) + 1\n",
    "\n",
    "print(\"Total words\", vocab_size)"
   ]
  },
  {
   "cell_type": "code",
   "execution_count": 22,
   "metadata": {},
   "outputs": [],
   "source": [
    "from keras.preprocessing.sequence import pad_sequences\n",
    "\n",
    "x_train = pad_sequences(tokenizer.texts_to_sequences(df_train.text), maxlen=SEQUENCE_LENGTH)\n",
    "x_test = pad_sequences(tokenizer.texts_to_sequences(df_test.text), maxlen=SEQUENCE_LENGTH)"
   ]
  },
  {
   "cell_type": "markdown",
   "metadata": {},
   "source": [
    "## Label Encoder"
   ]
  },
  {
   "cell_type": "code",
   "execution_count": 23,
   "metadata": {},
   "outputs": [
    {
     "data": {
      "text/plain": [
       "['NEGATIVE', 'POSITIVE', 'NEUTRAL']"
      ]
     },
     "execution_count": 23,
     "metadata": {},
     "output_type": "execute_result"
    }
   ],
   "source": [
    "labels = df_train.target.unique().tolist()\n",
    "labels.append(NEUTRAL)\n",
    "labels"
   ]
  },
  {
   "cell_type": "code",
   "execution_count": 26,
   "metadata": {},
   "outputs": [
    {
     "name": "stdout",
     "output_type": "stream",
     "text": [
      "y_train (16000, 1)\n",
      "y_test (4000, 1)\n"
     ]
    }
   ],
   "source": [
    "from sklearn.preprocessing import LabelEncoder\n",
    "\n",
    "encoder = LabelEncoder()\n",
    "encoder.fit(df_train.target.tolist())\n",
    "\n",
    "y_train = encoder.transform(df_train.target.tolist())\n",
    "y_test = encoder.transform(df_test.target.tolist())\n",
    "\n",
    "y_train = y_train.reshape(-1,1)\n",
    "y_test = y_test.reshape(-1,1)\n",
    "\n",
    "print(\"y_train\",y_train.shape)\n",
    "print(\"y_test\",y_test.shape)"
   ]
  },
  {
   "cell_type": "code",
   "execution_count": 27,
   "metadata": {},
   "outputs": [
    {
     "name": "stdout",
     "output_type": "stream",
     "text": [
      "x_train (16000, 300)\n",
      "y_train (16000, 1)\n",
      "\n",
      "x_test (4000, 300)\n",
      "y_test (4000, 1)\n"
     ]
    }
   ],
   "source": [
    "print(\"x_train\", x_train.shape)\n",
    "print(\"y_train\", y_train.shape)\n",
    "print()\n",
    "print(\"x_test\", x_test.shape)\n",
    "print(\"y_test\", y_test.shape)"
   ]
  },
  {
   "cell_type": "code",
   "execution_count": 28,
   "metadata": {},
   "outputs": [
    {
     "data": {
      "text/plain": [
       "array([[0],\n",
       "       [0],\n",
       "       [0],\n",
       "       [0],\n",
       "       [0],\n",
       "       [0],\n",
       "       [0],\n",
       "       [0],\n",
       "       [0],\n",
       "       [0]], dtype=int64)"
      ]
     },
     "execution_count": 28,
     "metadata": {},
     "output_type": "execute_result"
    }
   ],
   "source": [
    "y_train[:10]"
   ]
  },
  {
   "cell_type": "code",
   "execution_count": 29,
   "metadata": {},
   "outputs": [
    {
     "name": "stdout",
     "output_type": "stream",
     "text": [
      "(18211, 300)\n"
     ]
    }
   ],
   "source": [
    "import numpy as np\n",
    "\n",
    "embedding_matrix = np.zeros((vocab_size, W2V_SIZE))\n",
    "for word, i in tokenizer.word_index.items():\n",
    "    if word in w2v_model.wv:\n",
    "        embedding_matrix[i] = w2v_model.wv[word]\n",
    "print(embedding_matrix.shape)"
   ]
  },
  {
   "cell_type": "code",
   "execution_count": 30,
   "metadata": {},
   "outputs": [],
   "source": [
    "from keras.layers.embeddings import Embedding\n",
    "\n",
    "embedding_layer = Embedding(vocab_size, W2V_SIZE, weights=[embedding_matrix], input_length=SEQUENCE_LENGTH, trainable=False)"
   ]
  },
  {
   "cell_type": "markdown",
   "metadata": {},
   "source": [
    "## Build Model"
   ]
  },
  {
   "cell_type": "code",
   "execution_count": 31,
   "metadata": {},
   "outputs": [
    {
     "name": "stdout",
     "output_type": "stream",
     "text": [
      "Model: \"sequential\"\n",
      "_________________________________________________________________\n",
      "Layer (type)                 Output Shape              Param #   \n",
      "=================================================================\n",
      "embedding (Embedding)        (None, 300, 300)          5463300   \n",
      "_________________________________________________________________\n",
      "dropout (Dropout)            (None, 300, 300)          0         \n",
      "_________________________________________________________________\n",
      "lstm (LSTM)                  (None, 100)               160400    \n",
      "_________________________________________________________________\n",
      "dense (Dense)                (None, 1)                 101       \n",
      "=================================================================\n",
      "Total params: 5,623,801\n",
      "Trainable params: 160,501\n",
      "Non-trainable params: 5,463,300\n",
      "_________________________________________________________________\n"
     ]
    }
   ],
   "source": [
    "from keras import Sequential\n",
    "from keras.layers import Dense, Dropout, LSTM\n",
    "\n",
    "model = Sequential()\n",
    "model.add(embedding_layer)\n",
    "model.add(Dropout(0.5))\n",
    "model.add(LSTM(100, dropout=0.2, recurrent_dropout=0.2))\n",
    "model.add(Dense(1, activation='sigmoid'))\n",
    "\n",
    "model.summary()"
   ]
  },
  {
   "cell_type": "markdown",
   "metadata": {},
   "source": [
    "## Compile Model"
   ]
  },
  {
   "cell_type": "code",
   "execution_count": 32,
   "metadata": {},
   "outputs": [],
   "source": [
    "model.compile(loss='binary_crossentropy',\n",
    "              optimizer=\"adam\",\n",
    "              metrics=['accuracy'])"
   ]
  },
  {
   "cell_type": "markdown",
   "metadata": {},
   "source": [
    "## Callbacks"
   ]
  },
  {
   "cell_type": "code",
   "execution_count": 33,
   "metadata": {},
   "outputs": [],
   "source": [
    "from keras.callbacks import ReduceLROnPlateau, EarlyStopping\n",
    "\n",
    "callbacks = [ ReduceLROnPlateau(monitor='val_loss', patience=5, cooldown=0),\n",
    "              EarlyStopping(monitor='val_acc', min_delta=1e-4, patience=5)]"
   ]
  },
  {
   "cell_type": "markdown",
   "metadata": {},
   "source": [
    "## Train"
   ]
  },
  {
   "cell_type": "code",
   "execution_count": 34,
   "metadata": {},
   "outputs": [
    {
     "name": "stdout",
     "output_type": "stream",
     "text": [
      "Epoch 1/8\n",
      "15/15 [==============================] - ETA: 0s - loss: 0.6215 - accuracy: 0.6574WARNING:tensorflow:Early stopping conditioned on metric `val_acc` which is not available. Available metrics are: loss,accuracy,val_loss,val_accuracy,lr\n"
     ]
    },
    {
     "name": "stderr",
     "output_type": "stream",
     "text": [
      "2020-08-26 11:30:47,436 : WARNING : Early stopping conditioned on metric `val_acc` which is not available. Available metrics are: loss,accuracy,val_loss,val_accuracy,lr\n"
     ]
    },
    {
     "name": "stdout",
     "output_type": "stream",
     "text": [
      "15/15 [==============================] - 130s 9s/step - loss: 0.6215 - accuracy: 0.6574 - val_loss: 0.5779 - val_accuracy: 0.6931\n",
      "Epoch 2/8\n",
      "15/15 [==============================] - ETA: 0s - loss: 0.5772 - accuracy: 0.6965 WARNING:tensorflow:Early stopping conditioned on metric `val_acc` which is not available. Available metrics are: loss,accuracy,val_loss,val_accuracy,lr\n"
     ]
    },
    {
     "name": "stderr",
     "output_type": "stream",
     "text": [
      "2020-08-26 11:33:25,784 : WARNING : Early stopping conditioned on metric `val_acc` which is not available. Available metrics are: loss,accuracy,val_loss,val_accuracy,lr\n"
     ]
    },
    {
     "name": "stdout",
     "output_type": "stream",
     "text": [
      "15/15 [==============================] - 149s 10s/step - loss: 0.5772 - accuracy: 0.6965 - val_loss: 0.5569 - val_accuracy: 0.7131\n",
      "Epoch 3/8\n",
      "15/15 [==============================] - ETA: 0s - loss: 0.5663 - accuracy: 0.7035 WARNING:tensorflow:Early stopping conditioned on metric `val_acc` which is not available. Available metrics are: loss,accuracy,val_loss,val_accuracy,lr\n"
     ]
    },
    {
     "name": "stderr",
     "output_type": "stream",
     "text": [
      "2020-08-26 11:36:24,629 : WARNING : Early stopping conditioned on metric `val_acc` which is not available. Available metrics are: loss,accuracy,val_loss,val_accuracy,lr\n"
     ]
    },
    {
     "name": "stdout",
     "output_type": "stream",
     "text": [
      "15/15 [==============================] - 167s 11s/step - loss: 0.5663 - accuracy: 0.7035 - val_loss: 0.5475 - val_accuracy: 0.7175\n",
      "Epoch 4/8\n",
      "15/15 [==============================] - ETA: 0s - loss: 0.5622 - accuracy: 0.7060 WARNING:tensorflow:Early stopping conditioned on metric `val_acc` which is not available. Available metrics are: loss,accuracy,val_loss,val_accuracy,lr\n"
     ]
    },
    {
     "name": "stderr",
     "output_type": "stream",
     "text": [
      "2020-08-26 11:39:31,827 : WARNING : Early stopping conditioned on metric `val_acc` which is not available. Available metrics are: loss,accuracy,val_loss,val_accuracy,lr\n"
     ]
    },
    {
     "name": "stdout",
     "output_type": "stream",
     "text": [
      "15/15 [==============================] - 174s 12s/step - loss: 0.5622 - accuracy: 0.7060 - val_loss: 0.5424 - val_accuracy: 0.7212\n",
      "Epoch 5/8\n",
      "15/15 [==============================] - ETA: 0s - loss: 0.5579 - accuracy: 0.7104 WARNING:tensorflow:Early stopping conditioned on metric `val_acc` which is not available. Available metrics are: loss,accuracy,val_loss,val_accuracy,lr\n"
     ]
    },
    {
     "name": "stderr",
     "output_type": "stream",
     "text": [
      "2020-08-26 11:42:48,130 : WARNING : Early stopping conditioned on metric `val_acc` which is not available. Available metrics are: loss,accuracy,val_loss,val_accuracy,lr\n"
     ]
    },
    {
     "name": "stdout",
     "output_type": "stream",
     "text": [
      "15/15 [==============================] - 183s 12s/step - loss: 0.5579 - accuracy: 0.7104 - val_loss: 0.5384 - val_accuracy: 0.7250\n",
      "Epoch 6/8\n",
      "15/15 [==============================] - ETA: 0s - loss: 0.5506 - accuracy: 0.7128 WARNING:tensorflow:Early stopping conditioned on metric `val_acc` which is not available. Available metrics are: loss,accuracy,val_loss,val_accuracy,lr\n"
     ]
    },
    {
     "name": "stderr",
     "output_type": "stream",
     "text": [
      "2020-08-26 11:46:16,276 : WARNING : Early stopping conditioned on metric `val_acc` which is not available. Available metrics are: loss,accuracy,val_loss,val_accuracy,lr\n"
     ]
    },
    {
     "name": "stdout",
     "output_type": "stream",
     "text": [
      "15/15 [==============================] - 194s 13s/step - loss: 0.5506 - accuracy: 0.7128 - val_loss: 0.5366 - val_accuracy: 0.7212\n",
      "Epoch 7/8\n",
      "15/15 [==============================] - ETA: 0s - loss: 0.5487 - accuracy: 0.7156 WARNING:tensorflow:Early stopping conditioned on metric `val_acc` which is not available. Available metrics are: loss,accuracy,val_loss,val_accuracy,lr\n"
     ]
    },
    {
     "name": "stderr",
     "output_type": "stream",
     "text": [
      "2020-08-26 11:49:53,398 : WARNING : Early stopping conditioned on metric `val_acc` which is not available. Available metrics are: loss,accuracy,val_loss,val_accuracy,lr\n"
     ]
    },
    {
     "name": "stdout",
     "output_type": "stream",
     "text": [
      "15/15 [==============================] - 202s 13s/step - loss: 0.5487 - accuracy: 0.7156 - val_loss: 0.5343 - val_accuracy: 0.7225\n",
      "Epoch 8/8\n",
      "15/15 [==============================] - ETA: 0s - loss: 0.5455 - accuracy: 0.7171 WARNING:tensorflow:Early stopping conditioned on metric `val_acc` which is not available. Available metrics are: loss,accuracy,val_loss,val_accuracy,lr\n"
     ]
    },
    {
     "name": "stderr",
     "output_type": "stream",
     "text": [
      "2020-08-26 11:53:41,241 : WARNING : Early stopping conditioned on metric `val_acc` which is not available. Available metrics are: loss,accuracy,val_loss,val_accuracy,lr\n"
     ]
    },
    {
     "name": "stdout",
     "output_type": "stream",
     "text": [
      "15/15 [==============================] - 212s 14s/step - loss: 0.5455 - accuracy: 0.7171 - val_loss: 0.5323 - val_accuracy: 0.7356\n",
      "Wall time: 25min 15s\n"
     ]
    }
   ],
   "source": [
    "%%time\n",
    "history = model.fit(x_train, y_train,\n",
    "                    batch_size=BATCH_SIZE,\n",
    "                    epochs=EPOCHS,\n",
    "                    validation_split=0.1,\n",
    "                    verbose=1,\n",
    "                    callbacks=callbacks)"
   ]
  },
  {
   "cell_type": "markdown",
   "metadata": {},
   "source": [
    "## Evaluate"
   ]
  },
  {
   "cell_type": "code",
   "execution_count": 36,
   "metadata": {},
   "outputs": [
    {
     "name": "stdout",
     "output_type": "stream",
     "text": [
      "4/4 [==============================] - 4s 884ms/step - loss: 0.5416 - accuracy: 0.7140\n",
      "\n",
      "ACCURACY: 0.7139999866485596\n",
      "LOSS: 0.5415639877319336\n",
      "Wall time: 4.85 s\n"
     ]
    }
   ],
   "source": [
    "%%time\n",
    "score = model.evaluate(x_test, y_test, batch_size=BATCH_SIZE)\n",
    "print()\n",
    "print(\"ACCURACY:\",score[1])\n",
    "print(\"LOSS:\",score[0])"
   ]
  },
  {
   "cell_type": "code",
   "execution_count": 37,
   "metadata": {},
   "outputs": [],
   "source": [
    "def decode_sentiment(score, include_neutral=True):\n",
    "    if include_neutral:        \n",
    "        label = NEUTRAL\n",
    "        if score <= SENTIMENT_THRESHOLDS[0]:\n",
    "            label = NEGATIVE\n",
    "        elif score >= SENTIMENT_THRESHOLDS[1]:\n",
    "            label = POSITIVE\n",
    "\n",
    "        return label\n",
    "    else:\n",
    "        return NEGATIVE if score < 0.5 else POSITIVE"
   ]
  },
  {
   "cell_type": "code",
   "execution_count": 38,
   "metadata": {},
   "outputs": [],
   "source": [
    "def predict(text, include_neutral=True):\n",
    "    start_at = time.time()\n",
    "    # Tokenize text\n",
    "    x_test = pad_sequences(tokenizer.texts_to_sequences([text]), maxlen=SEQUENCE_LENGTH)\n",
    "    # Predict\n",
    "    score = model.predict([x_test])[0]\n",
    "    # Decode sentiment\n",
    "    label = decode_sentiment(score, include_neutral=include_neutral)\n",
    "\n",
    "    return {\"label\": label, \"score\": float(score),\n",
    "       \"elapsed_time\": time.time()-start_at} "
   ]
  },
  {
   "cell_type": "code",
   "execution_count": 39,
   "metadata": {},
   "outputs": [
    {
     "data": {
      "text/plain": [
       "{'label': 'POSITIVE',\n",
       " 'score': 0.9368957281112671,\n",
       " 'elapsed_time': 0.23552179336547852}"
      ]
     },
     "execution_count": 39,
     "metadata": {},
     "output_type": "execute_result"
    }
   ],
   "source": [
    "predict(\"I love the music\")"
   ]
  },
  {
   "cell_type": "code",
   "execution_count": 40,
   "metadata": {},
   "outputs": [
    {
     "data": {
      "text/plain": [
       "{'label': 'NEGATIVE',\n",
       " 'score': 0.07804980874061584,\n",
       " 'elapsed_time': 0.055348873138427734}"
      ]
     },
     "execution_count": 40,
     "metadata": {},
     "output_type": "execute_result"
    }
   ],
   "source": [
    "predict(\"I hate the rain\")"
   ]
  },
  {
   "cell_type": "code",
   "execution_count": 66,
   "metadata": {},
   "outputs": [
    {
     "data": {
      "text/plain": [
       "{'label': 'NEUTRAL',\n",
       " 'score': 0.4254371225833893,\n",
       " 'elapsed_time': 0.05186271667480469}"
      ]
     },
     "execution_count": 66,
     "metadata": {},
     "output_type": "execute_result"
    }
   ],
   "source": [
    "predict(\"Isn't he a holy terror?\")"
   ]
  },
  {
   "cell_type": "markdown",
   "metadata": {},
   "source": [
    "## 작은아씨들 인물별 감성 분석"
   ]
  },
  {
   "cell_type": "code",
   "execution_count": 59,
   "metadata": {},
   "outputs": [
    {
     "data": {
      "text/html": [
       "<div>\n",
       "<style scoped>\n",
       "    .dataframe tbody tr th:only-of-type {\n",
       "        vertical-align: middle;\n",
       "    }\n",
       "\n",
       "    .dataframe tbody tr th {\n",
       "        vertical-align: top;\n",
       "    }\n",
       "\n",
       "    .dataframe thead th {\n",
       "        text-align: right;\n",
       "    }\n",
       "</style>\n",
       "<table border=\"1\" class=\"dataframe\">\n",
       "  <thead>\n",
       "    <tr style=\"text-align: right;\">\n",
       "      <th></th>\n",
       "      <th>Unnamed: 0</th>\n",
       "      <th>speaker</th>\n",
       "      <th>text</th>\n",
       "      <th>token</th>\n",
       "      <th>score</th>\n",
       "    </tr>\n",
       "  </thead>\n",
       "  <tbody>\n",
       "    <tr>\n",
       "      <th>43</th>\n",
       "      <td>43</td>\n",
       "      <td>BETH</td>\n",
       "      <td>Oh, Hello.</td>\n",
       "      <td>['oh', 'hello']</td>\n",
       "      <td>2</td>\n",
       "    </tr>\n",
       "    <tr>\n",
       "      <th>45</th>\n",
       "      <td>45</td>\n",
       "      <td>BETH</td>\n",
       "      <td>Are they coming?</td>\n",
       "      <td>['are', 'they', 'coming']</td>\n",
       "      <td>2</td>\n",
       "    </tr>\n",
       "    <tr>\n",
       "      <th>58</th>\n",
       "      <td>58</td>\n",
       "      <td>BETH</td>\n",
       "      <td>Jo.</td>\n",
       "      <td>['jo']</td>\n",
       "      <td>2</td>\n",
       "    </tr>\n",
       "    <tr>\n",
       "      <th>60</th>\n",
       "      <td>60</td>\n",
       "      <td>BETH</td>\n",
       "      <td>For me?</td>\n",
       "      <td>['for', 'me']</td>\n",
       "      <td>2</td>\n",
       "    </tr>\n",
       "    <tr>\n",
       "      <th>64</th>\n",
       "      <td>64</td>\n",
       "      <td>BETH</td>\n",
       "      <td>I don't know.</td>\n",
       "      <td>['i', \"don't\", 'know']</td>\n",
       "      <td>2</td>\n",
       "    </tr>\n",
       "    <tr>\n",
       "      <th>68</th>\n",
       "      <td>68</td>\n",
       "      <td>BETH</td>\n",
       "      <td>Then _c Then I'd like to spend mine for some n...</td>\n",
       "      <td>['then', 'c', 'then', \"i'd\", 'like', 'to', 'sp...</td>\n",
       "      <td>2</td>\n",
       "    </tr>\n",
       "    <tr>\n",
       "      <th>82</th>\n",
       "      <td>82</td>\n",
       "      <td>BETH</td>\n",
       "      <td>Birds in their little nests agree.</td>\n",
       "      <td>['birds', 'in', 'their', 'little', 'nests', 'a...</td>\n",
       "      <td>2</td>\n",
       "    </tr>\n",
       "    <tr>\n",
       "      <th>86</th>\n",
       "      <td>86</td>\n",
       "      <td>BETH</td>\n",
       "      <td>Look.</td>\n",
       "      <td>['look']</td>\n",
       "      <td>2</td>\n",
       "    </tr>\n",
       "    <tr>\n",
       "      <th>100</th>\n",
       "      <td>100</td>\n",
       "      <td>BETH</td>\n",
       "      <td>Mmm.</td>\n",
       "      <td>['mmm']</td>\n",
       "      <td>2</td>\n",
       "    </tr>\n",
       "    <tr>\n",
       "      <th>102</th>\n",
       "      <td>102</td>\n",
       "      <td>BETH</td>\n",
       "      <td>Did you have a hard day, Marmee?</td>\n",
       "      <td>['did', 'you', 'have', 'a', 'hard', 'day', 'ma...</td>\n",
       "      <td>2</td>\n",
       "    </tr>\n",
       "    <tr>\n",
       "      <th>104</th>\n",
       "      <td>104</td>\n",
       "      <td>BETH</td>\n",
       "      <td>A letter from father!</td>\n",
       "      <td>['a', 'letter', 'from', 'father']</td>\n",
       "      <td>2</td>\n",
       "    </tr>\n",
       "    <tr>\n",
       "      <th>110</th>\n",
       "      <td>110</td>\n",
       "      <td>BETH</td>\n",
       "      <td>Let's_c.</td>\n",
       "      <td>[\"let's\", 'c']</td>\n",
       "      <td>2</td>\n",
       "    </tr>\n",
       "    <tr>\n",
       "      <th>114</th>\n",
       "      <td>114</td>\n",
       "      <td>BETH</td>\n",
       "      <td>Some new handkerchiefs, all hemmed.</td>\n",
       "      <td>['some', 'new', 'handkerchiefs', 'all', 'hemmed']</td>\n",
       "      <td>2</td>\n",
       "    </tr>\n",
       "    <tr>\n",
       "      <th>117</th>\n",
       "      <td>117</td>\n",
       "      <td>BETH</td>\n",
       "      <td>And here's Europe.</td>\n",
       "      <td>['and', \"here's\", 'europe']</td>\n",
       "      <td>2</td>\n",
       "    </tr>\n",
       "    <tr>\n",
       "      <th>122</th>\n",
       "      <td>122</td>\n",
       "      <td>BETH</td>\n",
       "      <td>Oh, but we never should have if Joe hadn't mad...</td>\n",
       "      <td>['oh', 'but', 'we', 'never', 'should', 'have',...</td>\n",
       "      <td>3</td>\n",
       "    </tr>\n",
       "    <tr>\n",
       "      <th>126</th>\n",
       "      <td>126</td>\n",
       "      <td>BETH</td>\n",
       "      <td>Yes, I have.</td>\n",
       "      <td>['yes', 'i', 'have']</td>\n",
       "      <td>3</td>\n",
       "    </tr>\n",
       "    <tr>\n",
       "      <th>134</th>\n",
       "      <td>134</td>\n",
       "      <td>BETH</td>\n",
       "      <td>Good night, Marmee.</td>\n",
       "      <td>['good', 'night', 'marmee']</td>\n",
       "      <td>3</td>\n",
       "    </tr>\n",
       "    <tr>\n",
       "      <th>143</th>\n",
       "      <td>143</td>\n",
       "      <td>BETH</td>\n",
       "      <td>Amy!</td>\n",
       "      <td>['amy']</td>\n",
       "      <td>2</td>\n",
       "    </tr>\n",
       "    <tr>\n",
       "      <th>147</th>\n",
       "      <td>147</td>\n",
       "      <td>BETH</td>\n",
       "      <td>Amy, my prettiest rose.</td>\n",
       "      <td>['amy', 'my', 'prettiest', 'rose']</td>\n",
       "      <td>3</td>\n",
       "    </tr>\n",
       "    <tr>\n",
       "      <th>153</th>\n",
       "      <td>153</td>\n",
       "      <td>BETH</td>\n",
       "      <td>Popovers.</td>\n",
       "      <td>['popovers']</td>\n",
       "      <td>2</td>\n",
       "    </tr>\n",
       "    <tr>\n",
       "      <th>177</th>\n",
       "      <td>177</td>\n",
       "      <td>BETH</td>\n",
       "      <td>I'll take the bread.</td>\n",
       "      <td>[\"i'll\", 'take', 'the', 'bread']</td>\n",
       "      <td>2</td>\n",
       "    </tr>\n",
       "    <tr>\n",
       "      <th>183</th>\n",
       "      <td>183</td>\n",
       "      <td>BETH</td>\n",
       "      <td>Ah, your highness.</td>\n",
       "      <td>['ah', 'your', 'highness']</td>\n",
       "      <td>2</td>\n",
       "    </tr>\n",
       "    <tr>\n",
       "      <th>200</th>\n",
       "      <td>200</td>\n",
       "      <td>BETH</td>\n",
       "      <td>It's Santa Claus.</td>\n",
       "      <td>[\"it's\", 'santa', 'claus']</td>\n",
       "      <td>2</td>\n",
       "    </tr>\n",
       "    <tr>\n",
       "      <th>208</th>\n",
       "      <td>208</td>\n",
       "      <td>BETH</td>\n",
       "      <td>Oh, I wish father were here.</td>\n",
       "      <td>['oh', 'i', 'wish', 'father', 'were', 'here']</td>\n",
       "      <td>2</td>\n",
       "    </tr>\n",
       "    <tr>\n",
       "      <th>281</th>\n",
       "      <td>281</td>\n",
       "      <td>BETH</td>\n",
       "      <td>Oh, Marmee, I wish Laurie hadn't asked me to h...</td>\n",
       "      <td>['oh', 'marmee', 'i', 'wish', 'laurie', \"hadn'...</td>\n",
       "      <td>1</td>\n",
       "    </tr>\n",
       "    <tr>\n",
       "      <th>298</th>\n",
       "      <td>298</td>\n",
       "      <td>BETH</td>\n",
       "      <td>Where?</td>\n",
       "      <td>['where']</td>\n",
       "      <td>2</td>\n",
       "    </tr>\n",
       "    <tr>\n",
       "      <th>300</th>\n",
       "      <td>300</td>\n",
       "      <td>BETH</td>\n",
       "      <td>Oh, that beautiful piano.</td>\n",
       "      <td>['oh', 'that', 'beautiful', 'piano']</td>\n",
       "      <td>3</td>\n",
       "    </tr>\n",
       "    <tr>\n",
       "      <th>306</th>\n",
       "      <td>306</td>\n",
       "      <td>BETH</td>\n",
       "      <td>Oh, no.</td>\n",
       "      <td>['oh', 'no']</td>\n",
       "      <td>1</td>\n",
       "    </tr>\n",
       "    <tr>\n",
       "      <th>316</th>\n",
       "      <td>316</td>\n",
       "      <td>BETH</td>\n",
       "      <td>Oh, sir.</td>\n",
       "      <td>['oh', 'sir']</td>\n",
       "      <td>2</td>\n",
       "    </tr>\n",
       "    <tr>\n",
       "      <th>318</th>\n",
       "      <td>318</td>\n",
       "      <td>BETH</td>\n",
       "      <td>I'm Beth.</td>\n",
       "      <td>[\"i'm\", 'beth']</td>\n",
       "      <td>2</td>\n",
       "    </tr>\n",
       "    <tr>\n",
       "      <th>338</th>\n",
       "      <td>338</td>\n",
       "      <td>BETH</td>\n",
       "      <td>No, thank you.</td>\n",
       "      <td>['no', 'thank', 'you']</td>\n",
       "      <td>1</td>\n",
       "    </tr>\n",
       "    <tr>\n",
       "      <th>355</th>\n",
       "      <td>355</td>\n",
       "      <td>BETH</td>\n",
       "      <td>Good night.</td>\n",
       "      <td>['good', 'night']</td>\n",
       "      <td>3</td>\n",
       "    </tr>\n",
       "    <tr>\n",
       "      <th>365</th>\n",
       "      <td>365</td>\n",
       "      <td>BETH</td>\n",
       "      <td>It's a pair of slippers I worked for Mr. Laure...</td>\n",
       "      <td>[\"it's\", 'a', 'pair', 'of', 'slippers', 'i', '...</td>\n",
       "      <td>2</td>\n",
       "    </tr>\n",
       "    <tr>\n",
       "      <th>367</th>\n",
       "      <td>367</td>\n",
       "      <td>BETH</td>\n",
       "      <td>Yes.</td>\n",
       "      <td>['yes']</td>\n",
       "      <td>3</td>\n",
       "    </tr>\n",
       "    <tr>\n",
       "      <th>412</th>\n",
       "      <td>412</td>\n",
       "      <td>BETH</td>\n",
       "      <td>Jo.</td>\n",
       "      <td>['jo']</td>\n",
       "      <td>2</td>\n",
       "    </tr>\n",
       "    <tr>\n",
       "      <th>414</th>\n",
       "      <td>414</td>\n",
       "      <td>BETH</td>\n",
       "      <td>Hello, Jo.</td>\n",
       "      <td>['hello', 'jo']</td>\n",
       "      <td>2</td>\n",
       "    </tr>\n",
       "    <tr>\n",
       "      <th>417</th>\n",
       "      <td>417</td>\n",
       "      <td>BETH</td>\n",
       "      <td>For_c For me?</td>\n",
       "      <td>['for', 'c', 'for', 'me']</td>\n",
       "      <td>2</td>\n",
       "    </tr>\n",
       "    <tr>\n",
       "      <th>423</th>\n",
       "      <td>423</td>\n",
       "      <td>BETH</td>\n",
       "      <td>Yes.</td>\n",
       "      <td>['yes']</td>\n",
       "      <td>3</td>\n",
       "    </tr>\n",
       "    <tr>\n",
       "      <th>426</th>\n",
       "      <td>426</td>\n",
       "      <td>BETH</td>\n",
       "      <td>I_c I came to thank you, sir.</td>\n",
       "      <td>['i', 'c', 'i', 'came', 'to', 'thank', 'you', ...</td>\n",
       "      <td>3</td>\n",
       "    </tr>\n",
       "    <tr>\n",
       "      <th>432</th>\n",
       "      <td>432</td>\n",
       "      <td>BETH</td>\n",
       "      <td>Alright, Marmee.</td>\n",
       "      <td>['alright', 'marmee']</td>\n",
       "      <td>2</td>\n",
       "    </tr>\n",
       "    <tr>\n",
       "      <th>463</th>\n",
       "      <td>463</td>\n",
       "      <td>BETH</td>\n",
       "      <td>Oh, can't we go to the train with you, Marmee?</td>\n",
       "      <td>['oh', \"can't\", 'we', 'go', 'to', 'the', 'trai...</td>\n",
       "      <td>1</td>\n",
       "    </tr>\n",
       "    <tr>\n",
       "      <th>479</th>\n",
       "      <td>479</td>\n",
       "      <td>BETH</td>\n",
       "      <td>Don't come near me.</td>\n",
       "      <td>[\"don't\", 'come', 'near', 'me']</td>\n",
       "      <td>1</td>\n",
       "    </tr>\n",
       "    <tr>\n",
       "      <th>489</th>\n",
       "      <td>489</td>\n",
       "      <td>BETH</td>\n",
       "      <td>Oh, Jo.</td>\n",
       "      <td>['oh', 'jo']</td>\n",
       "      <td>2</td>\n",
       "    </tr>\n",
       "    <tr>\n",
       "      <th>491</th>\n",
       "      <td>491</td>\n",
       "      <td>BETH</td>\n",
       "      <td>Mrs. Hummel's.</td>\n",
       "      <td>['mrs', \"hummel's\"]</td>\n",
       "      <td>2</td>\n",
       "    </tr>\n",
       "    <tr>\n",
       "      <th>493</th>\n",
       "      <td>493</td>\n",
       "      <td>BETH</td>\n",
       "      <td>The doctor said it was _c.. it was scarlet fever.</td>\n",
       "      <td>['the', 'doctor', 'said', 'it', 'was', 'c', 'i...</td>\n",
       "      <td>2</td>\n",
       "    </tr>\n",
       "    <tr>\n",
       "      <th>496</th>\n",
       "      <td>496</td>\n",
       "      <td>BETH</td>\n",
       "      <td>You don't think I'll get it, do you, Jo?</td>\n",
       "      <td>['you', \"don't\", 'think', \"i'll\", 'get', 'it',...</td>\n",
       "      <td>1</td>\n",
       "    </tr>\n",
       "    <tr>\n",
       "      <th>498</th>\n",
       "      <td>498</td>\n",
       "      <td>BETH</td>\n",
       "      <td>But_c.</td>\n",
       "      <td>['but', 'c']</td>\n",
       "      <td>2</td>\n",
       "    </tr>\n",
       "    <tr>\n",
       "      <th>502</th>\n",
       "      <td>502</td>\n",
       "      <td>BETH</td>\n",
       "      <td>I'll be alright, Meg.</td>\n",
       "      <td>[\"i'll\", 'be', 'alright', 'meg']</td>\n",
       "      <td>3</td>\n",
       "    </tr>\n",
       "    <tr>\n",
       "      <th>524</th>\n",
       "      <td>524</td>\n",
       "      <td>BETH</td>\n",
       "      <td>Oh, please don't telegraph, Jo.</td>\n",
       "      <td>['oh', 'please', \"don't\", 'telegraph', 'jo']</td>\n",
       "      <td>1</td>\n",
       "    </tr>\n",
       "    <tr>\n",
       "      <th>549</th>\n",
       "      <td>549</td>\n",
       "      <td>BETH</td>\n",
       "      <td>Oh.</td>\n",
       "      <td>['oh']</td>\n",
       "      <td>2</td>\n",
       "    </tr>\n",
       "    <tr>\n",
       "      <th>555</th>\n",
       "      <td>555</td>\n",
       "      <td>BETH</td>\n",
       "      <td>Father.</td>\n",
       "      <td>['father']</td>\n",
       "      <td>2</td>\n",
       "    </tr>\n",
       "    <tr>\n",
       "      <th>685</th>\n",
       "      <td>685</td>\n",
       "      <td>BETH</td>\n",
       "      <td>Oh, Jo, to think you're home.</td>\n",
       "      <td>['oh', 'jo', 'to', 'think', \"you're\", 'home']</td>\n",
       "      <td>2</td>\n",
       "    </tr>\n",
       "    <tr>\n",
       "      <th>687</th>\n",
       "      <td>687</td>\n",
       "      <td>BETH</td>\n",
       "      <td>Oh, poor Jo.</td>\n",
       "      <td>['oh', 'poor', 'jo']</td>\n",
       "      <td>1</td>\n",
       "    </tr>\n",
       "    <tr>\n",
       "      <th>688</th>\n",
       "      <td>688</td>\n",
       "      <td>BETH</td>\n",
       "      <td>Little love.</td>\n",
       "      <td>['little', 'love']</td>\n",
       "      <td>3</td>\n",
       "    </tr>\n",
       "    <tr>\n",
       "      <th>690</th>\n",
       "      <td>690</td>\n",
       "      <td>BETH</td>\n",
       "      <td>Oh, no.</td>\n",
       "      <td>['oh', 'no']</td>\n",
       "      <td>1</td>\n",
       "    </tr>\n",
       "    <tr>\n",
       "      <th>692</th>\n",
       "      <td>692</td>\n",
       "      <td>BETH</td>\n",
       "      <td>They're sweet.</td>\n",
       "      <td>[\"they're\", 'sweet']</td>\n",
       "      <td>3</td>\n",
       "    </tr>\n",
       "  </tbody>\n",
       "</table>\n",
       "</div>"
      ],
      "text/plain": [
       "     Unnamed: 0 speaker                                               text  \\\n",
       "43           43    BETH                                         Oh, Hello.   \n",
       "45           45    BETH                                   Are they coming?   \n",
       "58           58    BETH                                                Jo.   \n",
       "60           60    BETH                                            For me?   \n",
       "64           64    BETH                                      I don't know.   \n",
       "68           68    BETH  Then _c Then I'd like to spend mine for some n...   \n",
       "82           82    BETH                 Birds in their little nests agree.   \n",
       "86           86    BETH                                              Look.   \n",
       "100         100    BETH                                               Mmm.   \n",
       "102         102    BETH                   Did you have a hard day, Marmee?   \n",
       "104         104    BETH                              A letter from father!   \n",
       "110         110    BETH                                           Let's_c.   \n",
       "114         114    BETH                Some new handkerchiefs, all hemmed.   \n",
       "117         117    BETH                                 And here's Europe.   \n",
       "122         122    BETH  Oh, but we never should have if Joe hadn't mad...   \n",
       "126         126    BETH                                       Yes, I have.   \n",
       "134         134    BETH                                Good night, Marmee.   \n",
       "143         143    BETH                                               Amy!   \n",
       "147         147    BETH                            Amy, my prettiest rose.   \n",
       "153         153    BETH                                          Popovers.   \n",
       "177         177    BETH                               I'll take the bread.   \n",
       "183         183    BETH                                 Ah, your highness.   \n",
       "200         200    BETH                                  It's Santa Claus.   \n",
       "208         208    BETH                       Oh, I wish father were here.   \n",
       "281         281    BETH  Oh, Marmee, I wish Laurie hadn't asked me to h...   \n",
       "298         298    BETH                                             Where?   \n",
       "300         300    BETH                          Oh, that beautiful piano.   \n",
       "306         306    BETH                                            Oh, no.   \n",
       "316         316    BETH                                           Oh, sir.   \n",
       "318         318    BETH                                          I'm Beth.   \n",
       "338         338    BETH                                     No, thank you.   \n",
       "355         355    BETH                                        Good night.   \n",
       "365         365    BETH  It's a pair of slippers I worked for Mr. Laure...   \n",
       "367         367    BETH                                               Yes.   \n",
       "412         412    BETH                                                Jo.   \n",
       "414         414    BETH                                         Hello, Jo.   \n",
       "417         417    BETH                                      For_c For me?   \n",
       "423         423    BETH                                               Yes.   \n",
       "426         426    BETH                      I_c I came to thank you, sir.   \n",
       "432         432    BETH                                   Alright, Marmee.   \n",
       "463         463    BETH     Oh, can't we go to the train with you, Marmee?   \n",
       "479         479    BETH                                Don't come near me.   \n",
       "489         489    BETH                                            Oh, Jo.   \n",
       "491         491    BETH                                     Mrs. Hummel's.   \n",
       "493         493    BETH  The doctor said it was _c.. it was scarlet fever.   \n",
       "496         496    BETH           You don't think I'll get it, do you, Jo?   \n",
       "498         498    BETH                                             But_c.   \n",
       "502         502    BETH                              I'll be alright, Meg.   \n",
       "524         524    BETH                    Oh, please don't telegraph, Jo.   \n",
       "549         549    BETH                                                Oh.   \n",
       "555         555    BETH                                            Father.   \n",
       "685         685    BETH                      Oh, Jo, to think you're home.   \n",
       "687         687    BETH                                       Oh, poor Jo.   \n",
       "688         688    BETH                                       Little love.   \n",
       "690         690    BETH                                            Oh, no.   \n",
       "692         692    BETH                                     They're sweet.   \n",
       "\n",
       "                                                 token  score  \n",
       "43                                     ['oh', 'hello']      2  \n",
       "45                           ['are', 'they', 'coming']      2  \n",
       "58                                              ['jo']      2  \n",
       "60                                       ['for', 'me']      2  \n",
       "64                              ['i', \"don't\", 'know']      2  \n",
       "68   ['then', 'c', 'then', \"i'd\", 'like', 'to', 'sp...      2  \n",
       "82   ['birds', 'in', 'their', 'little', 'nests', 'a...      2  \n",
       "86                                            ['look']      2  \n",
       "100                                            ['mmm']      2  \n",
       "102  ['did', 'you', 'have', 'a', 'hard', 'day', 'ma...      2  \n",
       "104                  ['a', 'letter', 'from', 'father']      2  \n",
       "110                                     [\"let's\", 'c']      2  \n",
       "114  ['some', 'new', 'handkerchiefs', 'all', 'hemmed']      2  \n",
       "117                        ['and', \"here's\", 'europe']      2  \n",
       "122  ['oh', 'but', 'we', 'never', 'should', 'have',...      3  \n",
       "126                               ['yes', 'i', 'have']      3  \n",
       "134                        ['good', 'night', 'marmee']      3  \n",
       "143                                            ['amy']      2  \n",
       "147                 ['amy', 'my', 'prettiest', 'rose']      3  \n",
       "153                                       ['popovers']      2  \n",
       "177                   [\"i'll\", 'take', 'the', 'bread']      2  \n",
       "183                         ['ah', 'your', 'highness']      2  \n",
       "200                         [\"it's\", 'santa', 'claus']      2  \n",
       "208      ['oh', 'i', 'wish', 'father', 'were', 'here']      2  \n",
       "281  ['oh', 'marmee', 'i', 'wish', 'laurie', \"hadn'...      1  \n",
       "298                                          ['where']      2  \n",
       "300               ['oh', 'that', 'beautiful', 'piano']      3  \n",
       "306                                       ['oh', 'no']      1  \n",
       "316                                      ['oh', 'sir']      2  \n",
       "318                                    [\"i'm\", 'beth']      2  \n",
       "338                             ['no', 'thank', 'you']      1  \n",
       "355                                  ['good', 'night']      3  \n",
       "365  [\"it's\", 'a', 'pair', 'of', 'slippers', 'i', '...      2  \n",
       "367                                            ['yes']      3  \n",
       "412                                             ['jo']      2  \n",
       "414                                    ['hello', 'jo']      2  \n",
       "417                          ['for', 'c', 'for', 'me']      2  \n",
       "423                                            ['yes']      3  \n",
       "426  ['i', 'c', 'i', 'came', 'to', 'thank', 'you', ...      3  \n",
       "432                              ['alright', 'marmee']      2  \n",
       "463  ['oh', \"can't\", 'we', 'go', 'to', 'the', 'trai...      1  \n",
       "479                    [\"don't\", 'come', 'near', 'me']      1  \n",
       "489                                       ['oh', 'jo']      2  \n",
       "491                                ['mrs', \"hummel's\"]      2  \n",
       "493  ['the', 'doctor', 'said', 'it', 'was', 'c', 'i...      2  \n",
       "496  ['you', \"don't\", 'think', \"i'll\", 'get', 'it',...      1  \n",
       "498                                       ['but', 'c']      2  \n",
       "502                   [\"i'll\", 'be', 'alright', 'meg']      3  \n",
       "524       ['oh', 'please', \"don't\", 'telegraph', 'jo']      1  \n",
       "549                                             ['oh']      2  \n",
       "555                                         ['father']      2  \n",
       "685      ['oh', 'jo', 'to', 'think', \"you're\", 'home']      2  \n",
       "687                               ['oh', 'poor', 'jo']      1  \n",
       "688                                 ['little', 'love']      3  \n",
       "690                                       ['oh', 'no']      1  \n",
       "692                               [\"they're\", 'sweet']      3  "
      ]
     },
     "execution_count": 59,
     "metadata": {},
     "output_type": "execute_result"
    }
   ],
   "source": [
    "import pandas as pd\n",
    "\n",
    "fname = 'C:/data/fiction/new_little_women.csv'\n",
    "csv = pd.read_csv(fname)\n",
    "df_new = pd.DataFrame(csv)\n",
    "df_amy = df_new[df_new['speaker']=='AMY']\n",
    "df_meg = df_new[df_new['speaker']=='MEG']\n",
    "df_jo = df_new[df_new['speaker']=='JO']\n",
    "df_beth = df_new[df_new['speaker']=='BETH']\n",
    "df_beth"
   ]
  },
  {
   "cell_type": "code",
   "execution_count": 64,
   "metadata": {},
   "outputs": [
    {
     "name": "stdout",
     "output_type": "stream",
     "text": [
      "[0.7364735007286072, 0.8864669799804688, 0.8864669799804688, 0.17961427569389343, 0.7622740864753723, 0.5643542408943176, 0.43216994404792786, 0.7480452656745911, 0.6040159463882446, 0.5377864241600037, 0.5027422904968262, 0.810124397277832, 0.7653998732566833, 0.6292091608047485, 0.5590923428535461, 0.5643542408943176, 0.5643542408943176, 0.5379641652107239, 0.6212735772132874, 0.4236399531364441, 0.8507384061813354, 0.7450882196426392, 0.5174452066421509, 0.8087920546531677, 0.48025187849998474, 0.6565882563591003, 0.48025187849998474, 0.5643542408943176, 0.5643542408943176, 0.4559657871723175, 0.5815441608428955, 0.5643542408943176, 0.5643542408943176, 0.5643542408943176, 0.652114748954773, 0.5643542408943176, 0.4883812963962555, 0.5643542408943176, 0.5643542408943176, 0.4434277415275574, 0.665512204170227, 0.5090979933738708, 0.7170064449310303, 0.4781533479690552, 0.9270026683807373, 0.5643542408943176, 0.5643542408943176, 0.5643542408943176, 0.5643542408943176, 0.5643542408943176, 0.5643542408943176, 0.5303162336349487, 0.4873652756214142, 0.5902600288391113, 0.762932300567627, 0.5643542408943176, 0.8991165161132812, 0.48705798387527466, 0.4883812963962555, 0.3629026710987091, 0.7843334674835205, 0.4775170385837555, 0.5643542408943176, 0.5643542408943176, 0.5636555552482605, 0.5643542408943176, 0.5643542408943176, 0.5643542408943176, 0.2270425260066986, 0.5264086127281189, 0.20133957266807556, 0.6545953750610352, 0.5343216061592102, 0.052283674478530884, 0.5643542408943176, 0.6083466410636902, 0.7504635453224182, 0.6849522590637207, 0.3497118353843689, 0.16502976417541504, 0.6919671297073364, 0.4883812963962555, 0.13755416870117188]\n",
      "[0.7466977834701538, 0.6427765488624573, 0.6180551648139954, 0.5643542408943176, 0.7111009359359741, 0.7371192574501038, 0.6633134484291077, 0.37997421622276306, 0.5643542408943176, 0.5081269145011902, 0.4564867913722992, 0.36015087366104126, 0.6891622543334961, 0.5026689171791077, 0.8628408908843994, 0.515610933303833, 0.5643542408943176, 0.5643542408943176, 0.5643542408943176, 0.6606066226959229, 0.5079042315483093, 0.5959669351577759, 0.48705798387527466, 0.3914855420589447, 0.3617904782295227, 0.4883812963962555, 0.520858883857727, 0.5644864439964294, 0.4883812963962555, 0.8520410060882568, 0.7254769802093506, 0.4883812963962555, 0.8887910842895508, 0.8628408908843994, 0.8895385265350342, 0.8991165161132812, 0.8218642473220825, 0.7394727468490601, 0.5070834159851074, 0.5643542408943176, 0.3642498254776001, 0.15502038598060608, 0.6869049072265625, 0.5643542408943176, 0.08752980828285217, 0.7535014152526855, 0.5643542408943176, 0.5643542408943176, 0.4153205156326294, 0.43470650911331177, 0.5416840314865112, 0.5959669351577759, 0.5643542408943176, 0.885616660118103, 0.5643542408943176, 0.5643542408943176, 0.5524388551712036, 0.4725610613822937, 0.5643542408943176, 0.6784707307815552, 0.5959669351577759, 0.5791895389556885, 0.5524388551712036, 0.4883812963962555, 0.8446273803710938, 0.4987591803073883, 0.6784707307815552, 0.5643542408943176, 0.5643542408943176, 0.4883812963962555, 0.5643542408943176, 0.5940961241722107, 0.8053545951843262, 0.5143991112709045, 0.5045347809791565, 0.34842222929000854, 0.856407642364502, 0.5643542408943176, 0.6593271493911743, 0.5760746598243713, 0.41887181997299194, 0.676278829574585, 0.556007981300354, 0.7475558519363403]\n",
      "[0.6536431312561035, 0.4121454954147339, 0.13110989332199097, 0.8691955804824829, 0.6881830096244812, 0.12771156430244446, 0.7843334674835205, 0.7843334674835205, 0.7843334674835205, 0.5643542408943176, 0.5643542408943176, 0.7843334674835205, 0.5643542408943176, 0.4215480089187622, 0.03729182481765747, 0.29770779609680176, 0.5643542408943176, 0.7843334674835205, 0.6715037822723389, 0.2884591221809387, 0.509178638458252, 0.5643542408943176, 0.5643542408943176, 0.6479014754295349, 0.5643542408943176, 0.18995383381843567, 0.5643542408943176, 0.45281916856765747, 0.6154373288154602, 0.5643542408943176, 0.5643542408943176, 0.5462860465049744, 0.6154444813728333, 0.7389618158340454, 0.6106728911399841, 0.7744320631027222, 0.5643542408943176, 0.8628408908843994, 0.5643542408943176, 0.5643542408943176, 0.530894935131073, 0.515610933303833, 0.3795056939125061, 0.48025187849998474, 0.4438682496547699, 0.5643542408943176, 0.6506711840629578, 0.4226369261741638, 0.5643542408943176, 0.5643542408943176, 0.48167115449905396, 0.5711613297462463, 0.45893171429634094, 0.7990782260894775, 0.8083218336105347, 0.43169814348220825, 0.6165045499801636, 0.6658923625946045, 0.5643542408943176, 0.5383834838867188, 0.8886511325836182, 0.5643542408943176, 0.8392423391342163, 0.5643542408943176, 0.5317407250404358, 0.5643542408943176, 0.2024919092655182, 0.7254841923713684, 0.6919671297073364, 0.6221511363983154, 0.6014955639839172, 0.4883812963962555, 0.4883812963962555, 0.5568563342094421, 0.5157676935195923, 0.5636555552482605, 0.5304251313209534, 0.6713235974311829, 0.7603359222412109, 0.6118505597114563, 0.2675442099571228, 0.8140641450881958, 0.2724152207374573, 0.33741849660873413, 0.39350998401641846, 0.5643542408943176, 0.4883812963962555, 0.6060339212417603, 0.4883812963962555, 0.4883812963962555, 0.524486780166626, 0.37104853987693787, 0.6661359667778015, 0.465542197227478, 0.5810195207595825, 0.7981417179107666, 0.5810195207595825, 0.4883812963962555, 0.21577897667884827, 0.21894961595535278, 0.4883812963962555, 0.7795137166976929, 0.355257511138916, 0.8991165161132812, 0.4883812963962555, 0.7603359222412109, 0.7251530289649963, 0.37180042266845703, 0.3330205976963043, 0.5643542408943176, 0.6893526911735535, 0.35142701864242554, 0.5643542408943176, 0.37766343355178833, 0.5643542408943176, 0.9619523286819458, 0.5973936915397644, 0.5643542408943176, 0.6067121028900146, 0.5643542408943176, 0.4883812963962555, 0.4883812963962555, 0.43981441855430603, 0.5643542408943176, 0.5440955758094788, 0.29922834038734436, 0.5643542408943176, 0.4883812963962555, 0.5643542408943176, 0.5643542408943176, 0.5902600288391113, 0.5643542408943176, 0.7701990604400635, 0.6259583234786987, 0.8338146209716797, 0.4467109739780426, 0.756994366645813, 0.5367117524147034, 0.5643542408943176, 0.5395160913467407, 0.6559629440307617, 0.44587579369544983, 0.3465840220451355, 0.6154752969741821, 0.6713235974311829, 0.5643542408943176, 0.33474302291870117, 0.5505164265632629, 0.5524388551712036, 0.5643542408943176, 0.5643542408943176, 0.782778263092041, 0.14264872670173645, 0.4883812963962555, 0.5694056153297424, 0.41938817501068115, 0.4883812963962555, 0.34475839138031006, 0.4883812963962555, 0.3960253894329071, 0.5636555552482605, 0.6970032453536987, 0.5643542408943176, 0.4883812963962555, 0.5023396611213684, 0.7310187816619873, 0.2907204031944275, 0.35175076127052307, 0.7536398768424988, 0.5643542408943176, 0.8378368616104126, 0.4815731644630432, 0.5643542408943176, 0.48025187849998474, 0.5846931338310242, 0.35142701864242554, 0.5636555552482605, 0.4883812963962555, 0.5636555552482605, 0.5230241417884827, 0.7603359222412109, 0.5643542408943176, 0.615182638168335, 0.4873652756214142, 0.6852923631668091, 0.48705798387527466, 0.7655391693115234, 0.4883812963962555, 0.8550000786781311, 0.8628408908843994, 0.7949027419090271, 0.5643542408943176, 0.4883812963962555, 0.5643542408943176, 0.5212712287902832, 0.5068239569664001, 0.4005810618400574, 0.7843334674835205, 0.5825057625770569, 0.8398520946502686, 0.7784568071365356, 0.4810446798801422, 0.6527599096298218, 0.5643542408943176, 0.30377888679504395, 0.502612829208374, 0.5643542408943176, 0.6032645106315613, 0.5643542408943176, 0.3579769730567932, 0.520858883857727, 0.4968491494655609, 0.6052277684211731, 0.5061302185058594, 0.8438760638237, 0.6290196776390076, 0.3830760419368744, 0.6021141409873962, 0.14264872670173645, 0.7655391693115234, 0.48025187849998474, 0.7568732500076294, 0.7843334674835205, 0.8244279623031616, 0.5643542408943176, 0.5643542408943176, 0.4883812963962555, 0.8140641450881958, 0.4883812963962555, 0.4883812963962555, 0.4883812963962555, 0.5643542408943176, 0.7603359222412109, 0.60127192735672, 0.4883812963962555, 0.8621711730957031, 0.5330755710601807, 0.5020776391029358, 0.5643542408943176, 0.6432559490203857, 0.8239507079124451, 0.5643542408943176, 0.7535014152526855, 0.8140641450881958, 0.515610933303833, 0.8140641450881958, 0.8140641450881958, 0.5643542408943176, 0.4539400041103363, 0.14584305882453918, 0.5643542408943176, 0.5643542408943176, 0.5917240977287292, 0.09315291047096252, 0.8054287433624268, 0.4469425082206726, 0.7414491772651672, 0.5643542408943176, 0.5643542408943176, 0.48025187849998474, 0.6849522590637207, 0.4883812963962555, 0.8087920546531677, 0.6945106387138367, 0.33606359362602234, 0.4986498951911926, 0.6644363403320312, 0.4929775893688202, 0.5643542408943176, 0.515610933303833, 0.5643542408943176, 0.4883812963962555, 0.6956871747970581, 0.35142701864242554, 0.8546541929244995, 0.48025187849998474, 0.38863763213157654, 0.37659981846809387, 0.44919630885124207, 0.8140641450881958, 0.5904351472854614, 0.38295650482177734, 0.7069191336631775]\n",
      "[0.6893526911735535, 0.6606066226959229, 0.5643542408943176, 0.5643542408943176, 0.5636555552482605, 0.8314489722251892, 0.4821304380893707, 0.762932300567627, 0.6627082824707031, 0.2451987862586975, 0.5643542408943176, 0.5524388551712036, 0.7389618158340454, 0.5643542408943176, 0.5210484266281128, 0.8140641450881958, 0.8628408908843994, 0.515610933303833, 0.516812264919281, 0.5643542408943176, 0.42473104596138, 0.60127192735672, 0.5643542408943176, 0.2399328351020813, 0.2598579227924347, 0.5643542408943176, 0.6689953804016113, 0.4883812963962555, 0.5810195207595825, 0.5643542408943176, 0.8991165161132812, 0.8628408908843994, 0.5716873407363892, 0.8140641450881958, 0.5643542408943176, 0.756994366645813, 0.5524388551712036, 0.8140641450881958, 0.883986234664917, 0.6672341227531433, 0.17041173577308655, 0.549933671951294, 0.4883812963962555, 0.6091758012771606, 0.44625401496887207, 0.4839763641357422, 0.5524388551712036, 0.660804271697998, 0.6476621031761169, 0.4883812963962555, 0.5643542408943176, 0.30330222845077515, 0.10126861929893494, 0.7788441181182861, 0.4883812963962555, 0.921847939491272]\n"
     ]
    }
   ],
   "source": [
    "amy = []\n",
    "meg = []\n",
    "jo = []\n",
    "beth = []\n",
    "\n",
    "for line in df_amy['text']:\n",
    "    amy.append(predict(line)['score'])\n",
    "\n",
    "for line in df_meg['text']:\n",
    "    meg.append(predict(line)['score'])\n",
    "\n",
    "for line in df_jo['text']:\n",
    "    jo.append(predict(line)['score'])\n",
    "\n",
    "for line in df_beth['text']:\n",
    "    beth.append(predict(line)['score'])\n",
    "    \n",
    "print(amy)\n",
    "print(meg)\n",
    "print(jo)\n",
    "print(beth)"
   ]
  },
  {
   "cell_type": "code",
   "execution_count": 65,
   "metadata": {},
   "outputs": [
    {
     "name": "stdout",
     "output_type": "stream",
     "text": [
      "1/1 [==============================] - 0s 0s/step\n",
      "Wall time: 4.91 s\n"
     ]
    }
   ],
   "source": [
    "%%time\n",
    "y_pred_1d = []\n",
    "y_test_1d = list(df_test.target)\n",
    "scores = model.predict(x_test, verbose=1, batch_size=8000)\n",
    "y_pred_1d = [decode_sentiment(score, include_neutral=False) for score in scores]"
   ]
  },
  {
   "cell_type": "code",
   "execution_count": 67,
   "metadata": {},
   "outputs": [],
   "source": [
    " def plot_confusion_matrix(cm, classes,\n",
    "                          title='Confusion matrix',\n",
    "                          cmap=plt.cm.Blues):\n",
    "    \"\"\"\n",
    "    This function prints and plots the confusion matrix.\n",
    "    Normalization can be applied by setting `normalize=True`.\n",
    "    \"\"\"\n",
    "\n",
    "    cm = cm.astype('float') / cm.sum(axis=1)[:, np.newaxis]\n",
    "\n",
    "    plt.imshow(cm, interpolation='nearest', cmap=cmap)\n",
    "    plt.title(title, fontsize=30)\n",
    "    plt.colorbar()\n",
    "    tick_marks = np.arange(len(classes))\n",
    "    plt.xticks(tick_marks, classes, rotation=90, fontsize=22)\n",
    "    plt.yticks(tick_marks, classes, fontsize=22)\n",
    "\n",
    "    fmt = '.2f'\n",
    "    thresh = cm.max() / 2.\n",
    "    for i, j in itertools.product(range(cm.shape[0]), range(cm.shape[1])):\n",
    "        plt.text(j, i, format(cm[i, j], fmt),\n",
    "                 horizontalalignment=\"center\",\n",
    "                 color=\"white\" if cm[i, j] > thresh else \"black\")\n",
    "\n",
    "    plt.ylabel('True label', fontsize=25)\n",
    "    plt.xlabel('Predicted label', fontsize=25)"
   ]
  },
  {
   "cell_type": "code",
   "execution_count": 68,
   "metadata": {},
   "outputs": [
    {
     "data": {
      "image/png": "[encoded data removed]",
      "text/plain": [
       "<Figure size 864x864 with 2 Axes>"
      ]
     },
     "metadata": {
      "needs_background": "light"
     },
     "output_type": "display_data"
    },
    {
     "name": "stdout",
     "output_type": "stream",
     "text": [
      "Wall time: 273 ms\n"
     ]
    }
   ],
   "source": [
    "%%time\n",
    "\n",
    "cnf_matrix = confusion_matrix(y_test_1d, y_pred_1d)\n",
    "plt.figure(figsize=(12,12))\n",
    "plot_confusion_matrix(cnf_matrix, classes=df_train.target.unique(), title=\"Confusion matrix\")\n",
    "plt.show()"
   ]
  },
  {
   "cell_type": "code",
   "execution_count": 69,
   "metadata": {},
   "outputs": [
    {
     "name": "stdout",
     "output_type": "stream",
     "text": [
      "              precision    recall  f1-score   support\n",
      "\n",
      "    NEGATIVE       0.74      0.67      0.70      2019\n",
      "    POSITIVE       0.69      0.76      0.72      1981\n",
      "\n",
      "    accuracy                           0.71      4000\n",
      "   macro avg       0.72      0.71      0.71      4000\n",
      "weighted avg       0.72      0.71      0.71      4000\n",
      "\n"
     ]
    }
   ],
   "source": [
    "print(classification_report(y_test_1d, y_pred_1d))"
   ]
  },
  {
   "cell_type": "code",
   "execution_count": 46,
   "metadata": {},
   "outputs": [
    {
     "data": {
      "text/plain": [
       "0.715"
      ]
     },
     "execution_count": 46,
     "metadata": {},
     "output_type": "execute_result"
    }
   ],
   "source": [
    "accuracy_score(y_test_1d, y_pred_1d)"
   ]
  },
  {
   "cell_type": "code",
   "execution_count": 47,
   "metadata": {},
   "outputs": [
    {
     "name": "stderr",
     "output_type": "stream",
     "text": [
      "2020-08-25 16:25:44,696 : INFO : saving Word2Vec object under model.w2v, separately None\n",
      "2020-08-25 16:25:44,696 : INFO : not storing attribute vectors_norm\n",
      "2020-08-25 16:25:44,696 : INFO : not storing attribute cum_table\n",
      "2020-08-25 16:25:44,758 : INFO : saved model.w2v\n"
     ]
    }
   ],
   "source": [
    "model.save(KERAS_MODEL)\n",
    "w2v_model.save(WORD2VEC_MODEL)\n",
    "pickle.dump(tokenizer, open(TOKENIZER_MODEL, \"wb\"), protocol=0)\n",
    "pickle.dump(encoder, open(ENCODER_MODEL, \"wb\"), protocol=0)"
   ]
  }
 ],
 "metadata": {
  "kernelspec": {
   "display_name": "Python 3",
   "language": "python",
   "name": "python3"
  },
  "language_info": {
   "codemirror_mode": {
    "name": "ipython",
    "version": 3
   },
   "file_extension": ".py",
   "mimetype": "text/x-python",
   "name": "python",
   "nbconvert_exporter": "python",
   "pygments_lexer": "ipython3",
   "version": "3.7.7"
  }
 },
 "nbformat": 4,
 "nbformat_minor": 4
}
